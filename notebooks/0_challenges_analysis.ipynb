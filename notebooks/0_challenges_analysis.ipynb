{
 "cells": [
  {
   "cell_type": "markdown",
   "metadata": {},
   "source": [
    "# 0_Challenges analysis\n",
    "\n",
    "**Objective:** Assign accurately demographics data to individual households in Germany\n",
    "\n",
    "\n",
    "Here, we will start to \"brainstorm\" all the possible challenges for the mini-project. Let's start with the data we can think of:\n",
    "1. List of postal codes (PLZ) in Germany\n",
    "1. List of municipal codes (regional key) more details can be found [HERE](!https://www.destatis.de/DE/Themen/Laender-Regionen/Regionales/Gemeindeverzeichnis/Glossar/regionalschluessel.html)\n",
    "1. Statistics from Regionaldatenbank (demographics data) with the most granular level of data is municipal. Population distribution by ages and genders [HERE](!https://www.regionalstatistik.de/genesis//online/data?operation=table&code=12411-02-03-5-B&levelindex=1&levelid=1604855547818)\n",
    "1. Building objects from OpenStreetMap. Can be query by postal code-level or municipal-level.\n",
    "\n",
    "## Challenges\n",
    "\n",
    "### Classify building objects\n",
    "\n",
    "### Assign demographics data\n",
    "\n",
    "There are 3 possible cases when matching postal codes data with regional-key data:\n",
    "1. 1 PLZ = 1 regional-key. This is the easiest case since we can just divide the demographics data (municipal-level) equally to all residential buildings in the postal code.\n",
    "1. 1 Regional-key contains multiple PLZs. For example: Aalen, Stadt in Baden-Wüttemberg which has regional-key as 081365001088 but contains 5 PLZ from 73430 to 73434\n",
    "1. 1 PLZ is laid within multiple regional-keys. For example: PLZ 37339 is consisted of 7 municipals (last 3 digits change) 160615001003/015/026/031/094/103/114"
   ]
  },
  {
   "cell_type": "markdown",
   "metadata": {},
   "source": [
    "## Initialization"
   ]
  },
  {
   "cell_type": "code",
   "execution_count": 1,
   "metadata": {},
   "outputs": [],
   "source": [
    "import pandas as pd\n",
    "import numpy as np\n",
    "import sys\n",
    "import os\n",
    "import importlib\n",
    "import logging \n",
    "\n",
    "from datetime import datetime\n",
    "timestamp = datetime.now().strftime(\"%d%m%y_%H%M\")"
   ]
  },
  {
   "cell_type": "markdown",
   "metadata": {},
   "source": [
    "### Load custom modules"
   ]
  },
  {
   "cell_type": "code",
   "execution_count": 2,
   "metadata": {},
   "outputs": [],
   "source": [
    "pkg_path = '../src/'\n",
    "\n",
    "sys.path.append(pkg_path)\n",
    "import data_acquisition as da"
   ]
  },
  {
   "cell_type": "code",
   "execution_count": 3,
   "metadata": {},
   "outputs": [
    {
     "data": {
      "text/plain": [
       "<module 'data_acquisition' from '../src\\\\data_acquisition.py'>"
      ]
     },
     "execution_count": 3,
     "metadata": {},
     "output_type": "execute_result"
    }
   ],
   "source": [
    "# Reload module (incase new update)\n",
    "importlib.reload(da)"
   ]
  },
  {
   "cell_type": "markdown",
   "metadata": {},
   "source": [
    "## Inputs / Outputs"
   ]
  },
  {
   "cell_type": "code",
   "execution_count": 4,
   "metadata": {},
   "outputs": [],
   "source": [
    "# Paths\n",
    "pop_gmd_path = '../data/01_raw/pop_gem_de.csv'\n",
    "plz_gmd_path = '../data/01_raw/zuordnung_plz_ort_landkreis.csv'"
   ]
  },
  {
   "cell_type": "code",
   "execution_count": 5,
   "metadata": {},
   "outputs": [],
   "source": [
    "# Postal code list with population data (2011)\n",
    "pop_plz_csv = '../data/01_raw/plz_einwohner.csv'\n",
    "pop_plz_de = pd.read_csv(pop_plz_csv, dtype={'plz': str, 'einwhoner': int})  "
   ]
  },
  {
   "cell_type": "code",
   "execution_count": 6,
   "metadata": {},
   "outputs": [
    {
     "data": {
      "text/plain": [
       "(8168, 2)"
      ]
     },
     "execution_count": 6,
     "metadata": {},
     "output_type": "execute_result"
    }
   ],
   "source": [
    "pop_plz_de.shape"
   ]
  },
  {
   "cell_type": "code",
   "execution_count": 7,
   "metadata": {},
   "outputs": [
    {
     "data": {
      "text/html": [
       "<div>\n",
       "<style scoped>\n",
       "    .dataframe tbody tr th:only-of-type {\n",
       "        vertical-align: middle;\n",
       "    }\n",
       "\n",
       "    .dataframe tbody tr th {\n",
       "        vertical-align: top;\n",
       "    }\n",
       "\n",
       "    .dataframe thead th {\n",
       "        text-align: right;\n",
       "    }\n",
       "</style>\n",
       "<table border=\"1\" class=\"dataframe\">\n",
       "  <thead>\n",
       "    <tr style=\"text-align: right;\">\n",
       "      <th></th>\n",
       "      <th>plz</th>\n",
       "      <th>einwohner</th>\n",
       "    </tr>\n",
       "  </thead>\n",
       "  <tbody>\n",
       "    <tr>\n",
       "      <th>0</th>\n",
       "      <td>01067</td>\n",
       "      <td>11957</td>\n",
       "    </tr>\n",
       "    <tr>\n",
       "      <th>1</th>\n",
       "      <td>01069</td>\n",
       "      <td>25491</td>\n",
       "    </tr>\n",
       "    <tr>\n",
       "      <th>2</th>\n",
       "      <td>01097</td>\n",
       "      <td>14811</td>\n",
       "    </tr>\n",
       "    <tr>\n",
       "      <th>3</th>\n",
       "      <td>01099</td>\n",
       "      <td>28021</td>\n",
       "    </tr>\n",
       "    <tr>\n",
       "      <th>4</th>\n",
       "      <td>01108</td>\n",
       "      <td>5876</td>\n",
       "    </tr>\n",
       "  </tbody>\n",
       "</table>\n",
       "</div>"
      ],
      "text/plain": [
       "     plz  einwohner\n",
       "0  01067      11957\n",
       "1  01069      25491\n",
       "2  01097      14811\n",
       "3  01099      28021\n",
       "4  01108       5876"
      ]
     },
     "execution_count": 7,
     "metadata": {},
     "output_type": "execute_result"
    }
   ],
   "source": [
    "pop_plz_de.head()"
   ]
  },
  {
   "cell_type": "markdown",
   "metadata": {},
   "source": [
    "PLZ (postal code) - Gemeinden (municipal) - Landkreis (district) map"
   ]
  },
  {
   "cell_type": "code",
   "execution_count": 8,
   "metadata": {},
   "outputs": [],
   "source": [
    "plz_gmd_lk = pd.read_csv(plz_gmd_path)\n",
    "plz_gmd_lk.rename(columns = {'ags':'Regionalschluessel'}, inplace = True)"
   ]
  },
  {
   "cell_type": "code",
   "execution_count": 9,
   "metadata": {},
   "outputs": [
    {
     "data": {
      "text/plain": [
       "(12883, 6)"
      ]
     },
     "execution_count": 9,
     "metadata": {},
     "output_type": "execute_result"
    }
   ],
   "source": [
    "plz_gmd_lk.shape"
   ]
  },
  {
   "cell_type": "code",
   "execution_count": 10,
   "metadata": {},
   "outputs": [
    {
     "name": "stdout",
     "output_type": "stream",
     "text": [
      "Total number of unique PLZ: 8168\n",
      "Total number of unique Gemeinden (municipal): 10797\n"
     ]
    }
   ],
   "source": [
    "print(f'Total number of unique PLZ: {len(plz_gmd_lk.plz.drop_duplicates())}')\n",
    "print(f'Total number of unique Gemeinden (municipal): {len(plz_gmd_lk.Regionalschluessel.drop_duplicates())}')"
   ]
  },
  {
   "cell_type": "code",
   "execution_count": 11,
   "metadata": {},
   "outputs": [
    {
     "data": {
      "text/html": [
       "<div>\n",
       "<style scoped>\n",
       "    .dataframe tbody tr th:only-of-type {\n",
       "        vertical-align: middle;\n",
       "    }\n",
       "\n",
       "    .dataframe tbody tr th {\n",
       "        vertical-align: top;\n",
       "    }\n",
       "\n",
       "    .dataframe thead th {\n",
       "        text-align: right;\n",
       "    }\n",
       "</style>\n",
       "<table border=\"1\" class=\"dataframe\">\n",
       "  <thead>\n",
       "    <tr style=\"text-align: right;\">\n",
       "      <th></th>\n",
       "      <th>osm_id</th>\n",
       "      <th>Regionalschluessel</th>\n",
       "      <th>ort</th>\n",
       "      <th>plz</th>\n",
       "      <th>landkreis</th>\n",
       "      <th>bundesland</th>\n",
       "    </tr>\n",
       "  </thead>\n",
       "  <tbody>\n",
       "    <tr>\n",
       "      <th>3</th>\n",
       "      <td>62564</td>\n",
       "      <td>5334002</td>\n",
       "      <td>Aachen</td>\n",
       "      <td>52064</td>\n",
       "      <td>Städteregion Aachen</td>\n",
       "      <td>Nordrhein-Westfalen</td>\n",
       "    </tr>\n",
       "    <tr>\n",
       "      <th>4</th>\n",
       "      <td>62564</td>\n",
       "      <td>5334002</td>\n",
       "      <td>Aachen</td>\n",
       "      <td>52066</td>\n",
       "      <td>Städteregion Aachen</td>\n",
       "      <td>Nordrhein-Westfalen</td>\n",
       "    </tr>\n",
       "    <tr>\n",
       "      <th>5</th>\n",
       "      <td>62564</td>\n",
       "      <td>5334002</td>\n",
       "      <td>Aachen</td>\n",
       "      <td>52068</td>\n",
       "      <td>Städteregion Aachen</td>\n",
       "      <td>Nordrhein-Westfalen</td>\n",
       "    </tr>\n",
       "    <tr>\n",
       "      <th>6</th>\n",
       "      <td>62564</td>\n",
       "      <td>5334002</td>\n",
       "      <td>Aachen</td>\n",
       "      <td>52070</td>\n",
       "      <td>Städteregion Aachen</td>\n",
       "      <td>Nordrhein-Westfalen</td>\n",
       "    </tr>\n",
       "    <tr>\n",
       "      <th>7</th>\n",
       "      <td>62564</td>\n",
       "      <td>5334002</td>\n",
       "      <td>Aachen</td>\n",
       "      <td>52072</td>\n",
       "      <td>Städteregion Aachen</td>\n",
       "      <td>Nordrhein-Westfalen</td>\n",
       "    </tr>\n",
       "    <tr>\n",
       "      <th>...</th>\n",
       "      <td>...</td>\n",
       "      <td>...</td>\n",
       "      <td>...</td>\n",
       "      <td>...</td>\n",
       "      <td>...</td>\n",
       "      <td>...</td>\n",
       "    </tr>\n",
       "    <tr>\n",
       "      <th>12873</th>\n",
       "      <td>397076</td>\n",
       "      <td>14524330</td>\n",
       "      <td>Zwickau</td>\n",
       "      <td>8058</td>\n",
       "      <td>Landkreis Zwickau</td>\n",
       "      <td>Sachsen</td>\n",
       "    </tr>\n",
       "    <tr>\n",
       "      <th>12874</th>\n",
       "      <td>397076</td>\n",
       "      <td>14524330</td>\n",
       "      <td>Zwickau</td>\n",
       "      <td>8060</td>\n",
       "      <td>Landkreis Zwickau</td>\n",
       "      <td>Sachsen</td>\n",
       "    </tr>\n",
       "    <tr>\n",
       "      <th>12875</th>\n",
       "      <td>397076</td>\n",
       "      <td>14524330</td>\n",
       "      <td>Zwickau</td>\n",
       "      <td>8062</td>\n",
       "      <td>Landkreis Zwickau</td>\n",
       "      <td>Sachsen</td>\n",
       "    </tr>\n",
       "    <tr>\n",
       "      <th>12876</th>\n",
       "      <td>397076</td>\n",
       "      <td>14524330</td>\n",
       "      <td>Zwickau</td>\n",
       "      <td>8064</td>\n",
       "      <td>Landkreis Zwickau</td>\n",
       "      <td>Sachsen</td>\n",
       "    </tr>\n",
       "    <tr>\n",
       "      <th>12877</th>\n",
       "      <td>397076</td>\n",
       "      <td>14524330</td>\n",
       "      <td>Zwickau</td>\n",
       "      <td>8066</td>\n",
       "      <td>Landkreis Zwickau</td>\n",
       "      <td>Sachsen</td>\n",
       "    </tr>\n",
       "  </tbody>\n",
       "</table>\n",
       "<p>2086 rows × 6 columns</p>\n",
       "</div>"
      ],
      "text/plain": [
       "       osm_id  Regionalschluessel      ort    plz            landkreis  \\\n",
       "3       62564             5334002   Aachen  52064  Städteregion Aachen   \n",
       "4       62564             5334002   Aachen  52066  Städteregion Aachen   \n",
       "5       62564             5334002   Aachen  52068  Städteregion Aachen   \n",
       "6       62564             5334002   Aachen  52070  Städteregion Aachen   \n",
       "7       62564             5334002   Aachen  52072  Städteregion Aachen   \n",
       "...       ...                 ...      ...    ...                  ...   \n",
       "12873  397076            14524330  Zwickau   8058    Landkreis Zwickau   \n",
       "12874  397076            14524330  Zwickau   8060    Landkreis Zwickau   \n",
       "12875  397076            14524330  Zwickau   8062    Landkreis Zwickau   \n",
       "12876  397076            14524330  Zwickau   8064    Landkreis Zwickau   \n",
       "12877  397076            14524330  Zwickau   8066    Landkreis Zwickau   \n",
       "\n",
       "                bundesland  \n",
       "3      Nordrhein-Westfalen  \n",
       "4      Nordrhein-Westfalen  \n",
       "5      Nordrhein-Westfalen  \n",
       "6      Nordrhein-Westfalen  \n",
       "7      Nordrhein-Westfalen  \n",
       "...                    ...  \n",
       "12873              Sachsen  \n",
       "12874              Sachsen  \n",
       "12875              Sachsen  \n",
       "12876              Sachsen  \n",
       "12877              Sachsen  \n",
       "\n",
       "[2086 rows x 6 columns]"
      ]
     },
     "execution_count": 11,
     "metadata": {},
     "output_type": "execute_result"
    }
   ],
   "source": [
    "# 1 RS = multiple PLZ\n",
    "plz_gmd_lk[plz_gmd_lk.duplicated(['Regionalschluessel'])]"
   ]
  },
  {
   "cell_type": "code",
   "execution_count": 12,
   "metadata": {},
   "outputs": [
    {
     "data": {
      "text/html": [
       "<div>\n",
       "<style scoped>\n",
       "    .dataframe tbody tr th:only-of-type {\n",
       "        vertical-align: middle;\n",
       "    }\n",
       "\n",
       "    .dataframe tbody tr th {\n",
       "        vertical-align: top;\n",
       "    }\n",
       "\n",
       "    .dataframe thead th {\n",
       "        text-align: right;\n",
       "    }\n",
       "</style>\n",
       "<table border=\"1\" class=\"dataframe\">\n",
       "  <thead>\n",
       "    <tr style=\"text-align: right;\">\n",
       "      <th></th>\n",
       "      <th>osm_id</th>\n",
       "      <th>Regionalschluessel</th>\n",
       "      <th>ort</th>\n",
       "      <th>plz</th>\n",
       "      <th>landkreis</th>\n",
       "      <th>bundesland</th>\n",
       "    </tr>\n",
       "  </thead>\n",
       "  <tbody>\n",
       "    <tr>\n",
       "      <th>35</th>\n",
       "      <td>1246405</td>\n",
       "      <td>7134002</td>\n",
       "      <td>Achtelsbach</td>\n",
       "      <td>55767</td>\n",
       "      <td>Landkreis Birkenfeld</td>\n",
       "      <td>Rheinland-Pfalz</td>\n",
       "    </tr>\n",
       "    <tr>\n",
       "      <th>63</th>\n",
       "      <td>448765</td>\n",
       "      <td>1061003</td>\n",
       "      <td>Agethorst</td>\n",
       "      <td>25560</td>\n",
       "      <td>Kreis Steinburg</td>\n",
       "      <td>Schleswig-Holstein</td>\n",
       "    </tr>\n",
       "    <tr>\n",
       "      <th>94</th>\n",
       "      <td>1406977</td>\n",
       "      <td>1054004</td>\n",
       "      <td>Ahrenviölfeld</td>\n",
       "      <td>25885</td>\n",
       "      <td>Kreis Nordfriesland</td>\n",
       "      <td>Schleswig-Holstein</td>\n",
       "    </tr>\n",
       "    <tr>\n",
       "      <th>133</th>\n",
       "      <td>958104</td>\n",
       "      <td>9275114</td>\n",
       "      <td>Aldersbach</td>\n",
       "      <td>94501</td>\n",
       "      <td>Landkreis Passau</td>\n",
       "      <td>Bayern</td>\n",
       "    </tr>\n",
       "    <tr>\n",
       "      <th>220</th>\n",
       "      <td>418895</td>\n",
       "      <td>7132501</td>\n",
       "      <td>Altenkirchen (Westerwald)</td>\n",
       "      <td>57610</td>\n",
       "      <td>Landkreis Altenkirchen</td>\n",
       "      <td>Rheinland-Pfalz</td>\n",
       "    </tr>\n",
       "    <tr>\n",
       "      <th>...</th>\n",
       "      <td>...</td>\n",
       "      <td>...</td>\n",
       "      <td>...</td>\n",
       "      <td>...</td>\n",
       "      <td>...</td>\n",
       "      <td>...</td>\n",
       "    </tr>\n",
       "    <tr>\n",
       "      <th>12863</th>\n",
       "      <td>1257089</td>\n",
       "      <td>7235153</td>\n",
       "      <td>Züsch</td>\n",
       "      <td>54422</td>\n",
       "      <td>Landkreis Trier-Saarburg</td>\n",
       "      <td>Rheinland-Pfalz</td>\n",
       "    </tr>\n",
       "    <tr>\n",
       "      <th>12865</th>\n",
       "      <td>1515590</td>\n",
       "      <td>13074091</td>\n",
       "      <td>Züsow</td>\n",
       "      <td>23992</td>\n",
       "      <td>Landkreis Nordwestmecklenburg</td>\n",
       "      <td>Mecklenburg-Vorpommern</td>\n",
       "    </tr>\n",
       "    <tr>\n",
       "      <th>12866</th>\n",
       "      <td>1433754</td>\n",
       "      <td>13075154</td>\n",
       "      <td>Züssow</td>\n",
       "      <td>17495</td>\n",
       "      <td>Landkreis Vorpommern-Greifswald</td>\n",
       "      <td>Mecklenburg-Vorpommern</td>\n",
       "    </tr>\n",
       "    <tr>\n",
       "      <th>12869</th>\n",
       "      <td>1171875</td>\n",
       "      <td>7232138</td>\n",
       "      <td>Zweifelscheid</td>\n",
       "      <td>54673</td>\n",
       "      <td>Eifelkreis Bitburg-Prüm</td>\n",
       "      <td>Rheinland-Pfalz</td>\n",
       "    </tr>\n",
       "    <tr>\n",
       "      <th>12879</th>\n",
       "      <td>959161</td>\n",
       "      <td>9276148</td>\n",
       "      <td>Zwiesel</td>\n",
       "      <td>94227</td>\n",
       "      <td>Landkreis Regen</td>\n",
       "      <td>Bayern</td>\n",
       "    </tr>\n",
       "  </tbody>\n",
       "</table>\n",
       "<p>4715 rows × 6 columns</p>\n",
       "</div>"
      ],
      "text/plain": [
       "        osm_id  Regionalschluessel                        ort    plz  \\\n",
       "35     1246405             7134002                Achtelsbach  55767   \n",
       "63      448765             1061003                  Agethorst  25560   \n",
       "94     1406977             1054004              Ahrenviölfeld  25885   \n",
       "133     958104             9275114                 Aldersbach  94501   \n",
       "220     418895             7132501  Altenkirchen (Westerwald)  57610   \n",
       "...        ...                 ...                        ...    ...   \n",
       "12863  1257089             7235153                      Züsch  54422   \n",
       "12865  1515590            13074091                      Züsow  23992   \n",
       "12866  1433754            13075154                     Züssow  17495   \n",
       "12869  1171875             7232138              Zweifelscheid  54673   \n",
       "12879   959161             9276148                    Zwiesel  94227   \n",
       "\n",
       "                             landkreis              bundesland  \n",
       "35                Landkreis Birkenfeld         Rheinland-Pfalz  \n",
       "63                     Kreis Steinburg      Schleswig-Holstein  \n",
       "94                 Kreis Nordfriesland      Schleswig-Holstein  \n",
       "133                   Landkreis Passau                  Bayern  \n",
       "220             Landkreis Altenkirchen         Rheinland-Pfalz  \n",
       "...                                ...                     ...  \n",
       "12863         Landkreis Trier-Saarburg         Rheinland-Pfalz  \n",
       "12865    Landkreis Nordwestmecklenburg  Mecklenburg-Vorpommern  \n",
       "12866  Landkreis Vorpommern-Greifswald  Mecklenburg-Vorpommern  \n",
       "12869          Eifelkreis Bitburg-Prüm         Rheinland-Pfalz  \n",
       "12879                  Landkreis Regen                  Bayern  \n",
       "\n",
       "[4715 rows x 6 columns]"
      ]
     },
     "execution_count": 12,
     "metadata": {},
     "output_type": "execute_result"
    }
   ],
   "source": [
    "# 1 PLZ = multiple RS\n",
    "plz_gmd_lk[plz_gmd_lk.duplicated(['plz'])]"
   ]
  },
  {
   "cell_type": "markdown",
   "metadata": {},
   "source": [
    "Population distribution per municipal"
   ]
  },
  {
   "cell_type": "code",
   "execution_count": 13,
   "metadata": {},
   "outputs": [],
   "source": [
    "# Population distribution municipal-level\n",
    "pop_gmd_df = pd.read_csv(pop_gmd_path, sep=';',\n",
    "                         encoding='iso-8859-1',\n",
    "                         header=[0, 1]\n",
    "                        )\n",
    "\n",
    "# Merge first 2 rows as column names\n",
    "pop_gmd_df.columns = pop_gmd_df.columns.map('_'.join)\n",
    "\n",
    "# Rename first 2 columns\n",
    "pop_gmd_df.rename(columns={pop_gmd_df.columns[0]:'Regionalschluessel',\n",
    "                           pop_gmd_df.columns[1]:'Gemeinden'},\n",
    "                  inplace=True)\n",
    "\n",
    "# Take out only total population per gender\n",
    "pop_gmd_df = pop_gmd_df[['Regionalschluessel',\n",
    "                         'Gemeinden',\n",
    "                         'Insgesamt_Insgesamt',\n",
    "                         'männlich_Insgesamt',\n",
    "                         'weiblich_Insgesamt']]"
   ]
  },
  {
   "cell_type": "code",
   "execution_count": 14,
   "metadata": {},
   "outputs": [
    {
     "data": {
      "text/plain": [
       "(13556, 5)"
      ]
     },
     "execution_count": 14,
     "metadata": {},
     "output_type": "execute_result"
    }
   ],
   "source": [
    "pop_gmd_df.shape"
   ]
  },
  {
   "cell_type": "code",
   "execution_count": 15,
   "metadata": {},
   "outputs": [
    {
     "data": {
      "text/html": [
       "<div>\n",
       "<style scoped>\n",
       "    .dataframe tbody tr th:only-of-type {\n",
       "        vertical-align: middle;\n",
       "    }\n",
       "\n",
       "    .dataframe tbody tr th {\n",
       "        vertical-align: top;\n",
       "    }\n",
       "\n",
       "    .dataframe thead th {\n",
       "        text-align: right;\n",
       "    }\n",
       "</style>\n",
       "<table border=\"1\" class=\"dataframe\">\n",
       "  <thead>\n",
       "    <tr style=\"text-align: right;\">\n",
       "      <th></th>\n",
       "      <th>Regionalschluessel</th>\n",
       "      <th>Gemeinden</th>\n",
       "      <th>Insgesamt_Insgesamt</th>\n",
       "      <th>männlich_Insgesamt</th>\n",
       "      <th>weiblich_Insgesamt</th>\n",
       "    </tr>\n",
       "  </thead>\n",
       "  <tbody>\n",
       "    <tr>\n",
       "      <th>0</th>\n",
       "      <td>1001000</td>\n",
       "      <td>Flensburg, krsfr. Stadt</td>\n",
       "      <td>89504</td>\n",
       "      <td>44599</td>\n",
       "      <td>44905</td>\n",
       "    </tr>\n",
       "    <tr>\n",
       "      <th>1</th>\n",
       "      <td>1002000</td>\n",
       "      <td>Kiel, krsfr. Stadt</td>\n",
       "      <td>247548</td>\n",
       "      <td>120566</td>\n",
       "      <td>126982</td>\n",
       "    </tr>\n",
       "    <tr>\n",
       "      <th>2</th>\n",
       "      <td>1003000</td>\n",
       "      <td>Lübeck, krsfr. Stadt</td>\n",
       "      <td>217198</td>\n",
       "      <td>104371</td>\n",
       "      <td>112827</td>\n",
       "    </tr>\n",
       "    <tr>\n",
       "      <th>3</th>\n",
       "      <td>1004000</td>\n",
       "      <td>Neumünster, krsfr. Stadt</td>\n",
       "      <td>79487</td>\n",
       "      <td>39241</td>\n",
       "      <td>40246</td>\n",
       "    </tr>\n",
       "    <tr>\n",
       "      <th>4</th>\n",
       "      <td>1051001</td>\n",
       "      <td>Albersdorf</td>\n",
       "      <td>3670</td>\n",
       "      <td>1800</td>\n",
       "      <td>1870</td>\n",
       "    </tr>\n",
       "  </tbody>\n",
       "</table>\n",
       "</div>"
      ],
      "text/plain": [
       "   Regionalschluessel                 Gemeinden Insgesamt_Insgesamt  \\\n",
       "0             1001000   Flensburg, krsfr. Stadt               89504   \n",
       "1             1002000        Kiel, krsfr. Stadt              247548   \n",
       "2             1003000      Lübeck, krsfr. Stadt              217198   \n",
       "3             1004000  Neumünster, krsfr. Stadt               79487   \n",
       "4             1051001                Albersdorf                3670   \n",
       "\n",
       "  männlich_Insgesamt weiblich_Insgesamt  \n",
       "0              44599              44905  \n",
       "1             120566             126982  \n",
       "2             104371             112827  \n",
       "3              39241              40246  \n",
       "4               1800               1870  "
      ]
     },
     "execution_count": 15,
     "metadata": {},
     "output_type": "execute_result"
    }
   ],
   "source": [
    "pop_gmd_df.head()"
   ]
  },
  {
   "cell_type": "code",
   "execution_count": 16,
   "metadata": {},
   "outputs": [
    {
     "data": {
      "text/html": [
       "<div>\n",
       "<style scoped>\n",
       "    .dataframe tbody tr th:only-of-type {\n",
       "        vertical-align: middle;\n",
       "    }\n",
       "\n",
       "    .dataframe tbody tr th {\n",
       "        vertical-align: top;\n",
       "    }\n",
       "\n",
       "    .dataframe thead th {\n",
       "        text-align: right;\n",
       "    }\n",
       "</style>\n",
       "<table border=\"1\" class=\"dataframe\">\n",
       "  <thead>\n",
       "    <tr style=\"text-align: right;\">\n",
       "      <th></th>\n",
       "      <th>Regionalschluessel</th>\n",
       "      <th>Gemeinden</th>\n",
       "      <th>Insgesamt_Insgesamt</th>\n",
       "      <th>männlich_Insgesamt</th>\n",
       "      <th>weiblich_Insgesamt</th>\n",
       "    </tr>\n",
       "  </thead>\n",
       "  <tbody>\n",
       "    <tr>\n",
       "      <th>4305</th>\n",
       "      <td>7232003</td>\n",
       "      <td>Altscheid</td>\n",
       "      <td>90</td>\n",
       "      <td>46</td>\n",
       "      <td>44</td>\n",
       "    </tr>\n",
       "  </tbody>\n",
       "</table>\n",
       "</div>"
      ],
      "text/plain": [
       "      Regionalschluessel  Gemeinden Insgesamt_Insgesamt männlich_Insgesamt  \\\n",
       "4305             7232003  Altscheid                  90                 46   \n",
       "\n",
       "     weiblich_Insgesamt  \n",
       "4305                 44  "
      ]
     },
     "execution_count": 16,
     "metadata": {},
     "output_type": "execute_result"
    }
   ],
   "source": [
    "pop_gmd_df[pop_gmd_df.Regionalschluessel==7232003]"
   ]
  },
  {
   "cell_type": "code",
   "execution_count": 17,
   "metadata": {},
   "outputs": [
    {
     "name": "stdout",
     "output_type": "stream",
     "text": [
      "Total number of unique Gemeinden (municipal): 13556\n"
     ]
    }
   ],
   "source": [
    "print(f'Total number of unique Gemeinden (municipal): {len(pop_gmd_df.Regionalschluessel.drop_duplicates())}')"
   ]
  },
  {
   "cell_type": "markdown",
   "metadata": {},
   "source": [
    "## EDA"
   ]
  },
  {
   "cell_type": "code",
   "execution_count": 51,
   "metadata": {},
   "outputs": [],
   "source": [
    "# Different between 2 data sets about Gemeinden\n",
    "a = set(pop_gmd_df.Regionalschluessel.drop_duplicates())"
   ]
  },
  {
   "cell_type": "code",
   "execution_count": 52,
   "metadata": {},
   "outputs": [],
   "source": [
    "b = set(plz_gmd_lk.Regionalschluessel.drop_duplicates())"
   ]
  },
  {
   "cell_type": "code",
   "execution_count": 53,
   "metadata": {},
   "outputs": [
    {
     "data": {
      "text/plain": [
       "2761"
      ]
     },
     "execution_count": 53,
     "metadata": {},
     "output_type": "execute_result"
    }
   ],
   "source": [
    "# anti-join to get differences between 2 datasets\n",
    "c = (a ^ b)\n",
    "len(c)"
   ]
  },
  {
   "cell_type": "code",
   "execution_count": 54,
   "metadata": {},
   "outputs": [
    {
     "data": {
      "text/html": [
       "<div>\n",
       "<style scoped>\n",
       "    .dataframe tbody tr th:only-of-type {\n",
       "        vertical-align: middle;\n",
       "    }\n",
       "\n",
       "    .dataframe tbody tr th {\n",
       "        vertical-align: top;\n",
       "    }\n",
       "\n",
       "    .dataframe thead th {\n",
       "        text-align: right;\n",
       "    }\n",
       "</style>\n",
       "<table border=\"1\" class=\"dataframe\">\n",
       "  <thead>\n",
       "    <tr style=\"text-align: right;\">\n",
       "      <th></th>\n",
       "      <th>osm_id</th>\n",
       "      <th>Regionalschluessel</th>\n",
       "      <th>ort</th>\n",
       "      <th>plz</th>\n",
       "      <th>landkreis</th>\n",
       "      <th>bundesland</th>\n",
       "    </tr>\n",
       "  </thead>\n",
       "  <tbody>\n",
       "    <tr>\n",
       "      <th>11974</th>\n",
       "      <td>1808966</td>\n",
       "      <td>3358024</td>\n",
       "      <td>Walsrode</td>\n",
       "      <td>29664</td>\n",
       "      <td>Landkreis Heidekreis</td>\n",
       "      <td>Niedersachsen</td>\n",
       "    </tr>\n",
       "    <tr>\n",
       "      <th>11975</th>\n",
       "      <td>1808966</td>\n",
       "      <td>3358024</td>\n",
       "      <td>Walsrode</td>\n",
       "      <td>29699</td>\n",
       "      <td>Landkreis Heidekreis</td>\n",
       "      <td>Niedersachsen</td>\n",
       "    </tr>\n",
       "  </tbody>\n",
       "</table>\n",
       "</div>"
      ],
      "text/plain": [
       "        osm_id  Regionalschluessel       ort    plz             landkreis  \\\n",
       "11974  1808966             3358024  Walsrode  29664  Landkreis Heidekreis   \n",
       "11975  1808966             3358024  Walsrode  29699  Landkreis Heidekreis   \n",
       "\n",
       "          bundesland  \n",
       "11974  Niedersachsen  \n",
       "11975  Niedersachsen  "
      ]
     },
     "execution_count": 54,
     "metadata": {},
     "output_type": "execute_result"
    }
   ],
   "source": [
    "plz_gmd_lk[plz_gmd_lk.Regionalschluessel.isin(c)]"
   ]
  },
  {
   "cell_type": "code",
   "execution_count": 55,
   "metadata": {},
   "outputs": [],
   "source": [
    "pop_gmd_df.Insgesamt_Insgesamt = pop_gmd_df.Insgesamt_Insgesamt.astype(int, errors='ignore')"
   ]
  },
  {
   "cell_type": "code",
   "execution_count": 57,
   "metadata": {},
   "outputs": [
    {
     "data": {
      "text/html": [
       "<div>\n",
       "<style scoped>\n",
       "    .dataframe tbody tr th:only-of-type {\n",
       "        vertical-align: middle;\n",
       "    }\n",
       "\n",
       "    .dataframe tbody tr th {\n",
       "        vertical-align: top;\n",
       "    }\n",
       "\n",
       "    .dataframe thead th {\n",
       "        text-align: right;\n",
       "    }\n",
       "</style>\n",
       "<table border=\"1\" class=\"dataframe\">\n",
       "  <thead>\n",
       "    <tr style=\"text-align: right;\">\n",
       "      <th></th>\n",
       "      <th>Regionalschluessel</th>\n",
       "      <th>Gemeinden</th>\n",
       "      <th>Insgesamt_Insgesamt</th>\n",
       "      <th>männlich_Insgesamt</th>\n",
       "      <th>weiblich_Insgesamt</th>\n",
       "    </tr>\n",
       "  </thead>\n",
       "  <tbody>\n",
       "    <tr>\n",
       "      <th>0</th>\n",
       "      <td>3358004</td>\n",
       "      <td>Bomlitz</td>\n",
       "      <td>6970</td>\n",
       "      <td>3458</td>\n",
       "      <td>3512</td>\n",
       "    </tr>\n",
       "    <tr>\n",
       "      <th>1</th>\n",
       "      <td>3358022</td>\n",
       "      <td>Walsrode</td>\n",
       "      <td>23068</td>\n",
       "      <td>11491</td>\n",
       "      <td>11577</td>\n",
       "    </tr>\n",
       "    <tr>\n",
       "      <th>2</th>\n",
       "      <td>6633021</td>\n",
       "      <td>Oberweser</td>\n",
       "      <td>3158</td>\n",
       "      <td>1591</td>\n",
       "      <td>1567</td>\n",
       "    </tr>\n",
       "    <tr>\n",
       "      <th>3</th>\n",
       "      <td>6633027</td>\n",
       "      <td>Wahlsburg</td>\n",
       "      <td>2044</td>\n",
       "      <td>999</td>\n",
       "      <td>1045</td>\n",
       "    </tr>\n",
       "    <tr>\n",
       "      <th>4</th>\n",
       "      <td>7339027</td>\n",
       "      <td>Heidesheim am Rhein</td>\n",
       "      <td>7619</td>\n",
       "      <td>3795</td>\n",
       "      <td>3824</td>\n",
       "    </tr>\n",
       "    <tr>\n",
       "      <th>...</th>\n",
       "      <td>...</td>\n",
       "      <td>...</td>\n",
       "      <td>...</td>\n",
       "      <td>...</td>\n",
       "      <td>...</td>\n",
       "    </tr>\n",
       "    <tr>\n",
       "      <th>242</th>\n",
       "      <td>16077002</td>\n",
       "      <td>Altkirchen</td>\n",
       "      <td>970</td>\n",
       "      <td>503</td>\n",
       "      <td>467</td>\n",
       "    </tr>\n",
       "    <tr>\n",
       "      <th>243</th>\n",
       "      <td>16077004</td>\n",
       "      <td>Drogen</td>\n",
       "      <td>127</td>\n",
       "      <td>65</td>\n",
       "      <td>62</td>\n",
       "    </tr>\n",
       "    <tr>\n",
       "      <th>244</th>\n",
       "      <td>16077029</td>\n",
       "      <td>Lumpzig</td>\n",
       "      <td>494</td>\n",
       "      <td>231</td>\n",
       "      <td>263</td>\n",
       "    </tr>\n",
       "    <tr>\n",
       "      <th>245</th>\n",
       "      <td>16077037</td>\n",
       "      <td>Nöbdenitz</td>\n",
       "      <td>860</td>\n",
       "      <td>424</td>\n",
       "      <td>436</td>\n",
       "    </tr>\n",
       "    <tr>\n",
       "      <th>246</th>\n",
       "      <td>16077051</td>\n",
       "      <td>Wildenbörten</td>\n",
       "      <td>252</td>\n",
       "      <td>131</td>\n",
       "      <td>121</td>\n",
       "    </tr>\n",
       "  </tbody>\n",
       "</table>\n",
       "<p>247 rows × 5 columns</p>\n",
       "</div>"
      ],
      "text/plain": [
       "     Regionalschluessel            Gemeinden Insgesamt_Insgesamt  \\\n",
       "0               3358004              Bomlitz                6970   \n",
       "1               3358022             Walsrode               23068   \n",
       "2               6633021            Oberweser                3158   \n",
       "3               6633027            Wahlsburg                2044   \n",
       "4               7339027  Heidesheim am Rhein                7619   \n",
       "..                  ...                  ...                 ...   \n",
       "242            16077002           Altkirchen                 970   \n",
       "243            16077004               Drogen                 127   \n",
       "244            16077029              Lumpzig                 494   \n",
       "245            16077037            Nöbdenitz                 860   \n",
       "246            16077051         Wildenbörten                 252   \n",
       "\n",
       "    männlich_Insgesamt weiblich_Insgesamt  \n",
       "0                 3458               3512  \n",
       "1                11491              11577  \n",
       "2                 1591               1567  \n",
       "3                  999               1045  \n",
       "4                 3795               3824  \n",
       "..                 ...                ...  \n",
       "242                503                467  \n",
       "243                 65                 62  \n",
       "244                231                263  \n",
       "245                424                436  \n",
       "246                131                121  \n",
       "\n",
       "[247 rows x 5 columns]"
      ]
     },
     "execution_count": 57,
     "metadata": {},
     "output_type": "execute_result"
    }
   ],
   "source": [
    "pop_gmd_df[(pop_gmd_df.Regionalschluessel.isin(c)) & \n",
    "           (pop_gmd_df.Insgesamt_Insgesamt.isin(['-0','.']) == False)].reset_index(drop = True)"
   ]
  },
  {
   "cell_type": "code",
   "execution_count": null,
   "metadata": {},
   "outputs": [],
   "source": []
  }
 ],
 "metadata": {
  "kernelspec": {
   "display_name": "Python 3",
   "language": "python",
   "name": "python3"
  },
  "language_info": {
   "codemirror_mode": {
    "name": "ipython",
    "version": 3
   },
   "file_extension": ".py",
   "mimetype": "text/x-python",
   "name": "python",
   "nbconvert_exporter": "python",
   "pygments_lexer": "ipython3",
   "version": "3.7.8"
  }
 },
 "nbformat": 4,
 "nbformat_minor": 4
}
