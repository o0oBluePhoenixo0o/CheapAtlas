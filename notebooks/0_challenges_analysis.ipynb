{
 "cells": [
  {
   "cell_type": "markdown",
   "metadata": {},
   "source": [
    "# 0_Challenges analysis\n",
    "\n",
    "**Objective:** Assign accurately demographics data to individual households in Germany\n",
    "\n",
    "\n",
    "Here, we will start to \"brainstorm\" all the possible challenges for the mini-project. Let's start with the data we can think of:\n",
    "1. List of postal codes (PLZ) in Germany\n",
    "1. List of municipal codes (regional key) more details can be found [HERE](!https://www.destatis.de/DE/Themen/Laender-Regionen/Regionales/Gemeindeverzeichnis/Glossar/regionalschluessel.html)\n",
    "1. Statistics from Regionaldatenbank (demographics data) with the most granular level of data is municipal. Population distribution by ages and genders [HERE](!https://www.regionalstatistik.de/genesis//online/data?operation=table&code=12411-02-03-5-B&levelindex=1&levelid=1604855547818)\n",
    "1. Building objects from OpenStreetMap. Can be query by postal code-level or municipal-level.\n",
    "\n",
    "## Challenges\n",
    "\n",
    "### Classify building objects\n",
    "\n",
    "### Assign demographics data\n",
    "\n",
    "There are 3 possible cases when matching postal codes data with regional-key data:\n",
    "1. 1 PLZ = 1 regional-key. This is the easiest case since we can just divide the demographics data (municipal-level) equally to all residential buildings in the postal code.\n",
    "1. 1 Regional-key contains multiple PLZs. For example: Aalen, Stadt in Baden-Wüttemberg which has regional-key as 081365001088 but contains 5 PLZ from 73430 to 73434\n",
    "1. 1 PLZ is laid within multiple regional-keys. For example: PLZ 37339 is consisted of 7 municipals (last 3 digits change) 160615001003/015/026/031/094/103/114"
   ]
  },
  {
   "cell_type": "markdown",
   "metadata": {},
   "source": [
    "## Initialization"
   ]
  },
  {
   "cell_type": "code",
   "execution_count": null,
   "metadata": {},
   "outputs": [],
   "source": [
    "import pandas as pd\n",
    "import numpy as np\n",
    "import sys\n",
    "import os\n",
    "import importlib\n",
    "import logging \n",
    "\n",
    "from datetime import datetime\n",
    "timestamp = datetime.now().strftime(\"%d%m%y_%H%M\")"
   ]
  },
  {
   "cell_type": "markdown",
   "metadata": {},
   "source": [
    "### Load custom modules"
   ]
  },
  {
   "cell_type": "code",
   "execution_count": null,
   "metadata": {},
   "outputs": [],
   "source": [
    "pkg_path = '../src/'\n",
    "\n",
    "sys.path.append(pkg_path)\n",
    "import data_acquisition as da"
   ]
  },
  {
   "cell_type": "code",
   "execution_count": null,
   "metadata": {},
   "outputs": [],
   "source": [
    "# Reload module (incase new update)\n",
    "importlib.reload(da)"
   ]
  },
  {
   "cell_type": "markdown",
   "metadata": {},
   "source": [
    "## Inputs / Outputs"
   ]
  },
  {
   "cell_type": "code",
   "execution_count": null,
   "metadata": {},
   "outputs": [],
   "source": [
    "# Paths\n",
    "pop_gmd_path = '../data/01_raw/pop_gem_de.csv'\n",
    "plz_gmd_path = '../data/01_raw/zuordnung_plz_ort_landkreis.csv'"
   ]
  },
  {
   "cell_type": "code",
   "execution_count": null,
   "metadata": {},
   "outputs": [],
   "source": [
    "# Postal code list with population data (2011)\n",
    "pop_plz_csv = '../data/01_raw/plz_einwohner.csv'\n",
    "pop_plz_de = pd.read_csv(pop_plz_csv, dtype={'plz': str, 'einwhoner': int})  "
   ]
  },
  {
   "cell_type": "code",
   "execution_count": null,
   "metadata": {},
   "outputs": [],
   "source": [
    "pop_plz_de.shape"
   ]
  },
  {
   "cell_type": "code",
   "execution_count": null,
   "metadata": {},
   "outputs": [],
   "source": [
    "pop_plz_de.head()"
   ]
  },
  {
   "cell_type": "markdown",
   "metadata": {},
   "source": [
    "PLZ (postal code) - Gemeinden (municipal) - Landkreis (district) map"
   ]
  },
  {
   "cell_type": "code",
   "execution_count": null,
   "metadata": {},
   "outputs": [],
   "source": [
    "plz_gmd_lk = pd.read_csv(plz_gmd_path)\n",
    "plz_gmd_lk.rename(columns = {'ags':'Regionalschluessel'}, inplace = True)"
   ]
  },
  {
   "cell_type": "code",
   "execution_count": null,
   "metadata": {},
   "outputs": [],
   "source": [
    "plz_gmd_lk.shape"
   ]
  },
  {
   "cell_type": "code",
   "execution_count": null,
   "metadata": {},
   "outputs": [],
   "source": [
    "print(f'Total number of unique PLZ: {len(plz_gmd_lk.plz.drop_duplicates())}')\n",
    "print(f'Total number of unique Gemeinden (municipal): {len(plz_gmd_lk.Regionalschluessel.drop_duplicates())}')"
   ]
  },
  {
   "cell_type": "code",
   "execution_count": null,
   "metadata": {},
   "outputs": [],
   "source": [
    "# 1 RS = multiple PLZ\n",
    "plz_gmd_lk[plz_gmd_lk.duplicated(['Regionalschluessel'])]"
   ]
  },
  {
   "cell_type": "code",
   "execution_count": null,
   "metadata": {},
   "outputs": [],
   "source": [
    "# 1 PLZ = multiple RS\n",
    "plz_gmd_lk[plz_gmd_lk.duplicated(['plz'])]"
   ]
  },
  {
   "cell_type": "markdown",
   "metadata": {},
   "source": [
    "Population distribution per municipal"
   ]
  },
  {
   "cell_type": "code",
   "execution_count": null,
   "metadata": {},
   "outputs": [],
   "source": [
    "# Population distribution municipal-level\n",
    "pop_gmd_df = pd.read_csv(pop_gmd_path, sep=';',\n",
    "                         encoding='iso-8859-1',\n",
    "                         header=[0, 1]\n",
    "                        )\n",
    "\n",
    "# Merge first 2 rows as column names\n",
    "pop_gmd_df.columns = pop_gmd_df.columns.map('_'.join)\n",
    "\n",
    "# Rename first 2 columns\n",
    "pop_gmd_df.rename(columns={pop_gmd_df.columns[0]:'Regionalschluessel',\n",
    "                           pop_gmd_df.columns[1]:'Gemeinden'},\n",
    "                  inplace=True)\n",
    "\n",
    "# Take out only total population per gender\n",
    "pop_gmd_df = pop_gmd_df[['Regionalschluessel',\n",
    "                         'Gemeinden',\n",
    "                         'Insgesamt_Insgesamt',\n",
    "                         'männlich_Insgesamt',\n",
    "                         'weiblich_Insgesamt']]"
   ]
  },
  {
   "cell_type": "code",
   "execution_count": null,
   "metadata": {},
   "outputs": [],
   "source": [
    "pop_gmd_df.shape"
   ]
  },
  {
   "cell_type": "code",
   "execution_count": null,
   "metadata": {},
   "outputs": [],
   "source": [
    "pop_gmd_df.head()"
   ]
  },
  {
   "cell_type": "code",
   "execution_count": null,
   "metadata": {},
   "outputs": [],
   "source": [
    "pop_gmd_df[pop_gmd_df.Regionalschluessel==7232003]"
   ]
  },
  {
   "cell_type": "code",
   "execution_count": null,
   "metadata": {},
   "outputs": [],
   "source": [
    "print(f'Total number of unique Gemeinden (municipal): {len(pop_gmd_df.Regionalschluessel.drop_duplicates())}')"
   ]
  },
  {
   "cell_type": "markdown",
   "metadata": {},
   "source": [
    "## EDA"
   ]
  },
  {
   "cell_type": "code",
   "execution_count": null,
   "metadata": {},
   "outputs": [],
   "source": [
    "# Different between 2 data sets about Gemeinden\n",
    "a = set(pop_gmd_df.Regionalschluessel.drop_duplicates())"
   ]
  },
  {
   "cell_type": "code",
   "execution_count": null,
   "metadata": {},
   "outputs": [],
   "source": [
    "b = set(plz_gmd_lk.Regionalschluessel.drop_duplicates())"
   ]
  },
  {
   "cell_type": "code",
   "execution_count": null,
   "metadata": {},
   "outputs": [],
   "source": [
    "# anti-join to get differences between 2 datasets\n",
    "c = (a ^ b)\n",
    "len(c)"
   ]
  },
  {
   "cell_type": "code",
   "execution_count": null,
   "metadata": {},
   "outputs": [],
   "source": [
    "plz_gmd_lk[plz_gmd_lk.Regionalschluessel.isin(c)]"
   ]
  },
  {
   "cell_type": "code",
   "execution_count": null,
   "metadata": {},
   "outputs": [],
   "source": [
    "pop_gmd_df.Insgesamt_Insgesamt = pop_gmd_df.Insgesamt_Insgesamt.astype(int, errors='ignore')"
   ]
  },
  {
   "cell_type": "code",
   "execution_count": null,
   "metadata": {},
   "outputs": [],
   "source": [
    "pop_gmd_df[(pop_gmd_df.Regionalschluessel.isin(c)) & \n",
    "           (pop_gmd_df.Insgesamt_Insgesamt.isin(['-0','.']) == False)].reset_index(drop = True)"
   ]
  },
  {
   "cell_type": "code",
   "execution_count": null,
   "metadata": {},
   "outputs": [],
   "source": []
  }
 ],
 "metadata": {
  "kernelspec": {
   "display_name": "CheapAtlas",
   "language": "python",
   "name": "python3"
  },
  "language_info": {
   "codemirror_mode": {
    "name": "ipython",
    "version": 3
   },
   "file_extension": ".py",
   "mimetype": "text/x-python",
   "name": "python",
   "nbconvert_exporter": "python",
   "pygments_lexer": "ipython3",
   "version": "3.7.8"
  }
 },
 "nbformat": 4,
 "nbformat_minor": 4
}
