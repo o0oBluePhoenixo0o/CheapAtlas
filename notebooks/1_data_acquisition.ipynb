{
 "cells": [
  {
   "cell_type": "markdown",
   "metadata": {},
   "source": [
    "# 1_Data Acquisition\n",
    "Aim to get all buildings data from OpenStreetMap with correct administrative tag (postalcodes, regional-key, area-key):\n",
    "\n",
    "1. Access [Postleitzahl](https://www.suche-postleitzahl.org/) to get list of postal codes in Germany (**manual**)\n",
    "1. Access [Regional Statistics](https://www.regionalstatistik.de/) to get demographics data for all regional-key (regionalschluessel represents municipal) (**manual**)\n",
    "1. Access Overpass API (OpenStreetMap) to get building footprints for all postal codes (**automate in this notebook**)"
   ]
  },
  {
   "cell_type": "markdown",
   "metadata": {},
   "source": [
    "## Initialization"
   ]
  },
  {
   "cell_type": "code",
   "execution_count": null,
   "metadata": {},
   "outputs": [],
   "source": [
    "import pandas as pd\n",
    "import numpy as np\n",
    "import sys\n",
    "import io\n",
    "\n",
    "import logging \n",
    "\n",
    "from datetime import datetime\n",
    "timestamp = datetime.now().strftime(\"%d%m%y_%H%M\")"
   ]
  },
  {
   "cell_type": "markdown",
   "metadata": {},
   "source": [
    "### Load custom modules"
   ]
  },
  {
   "cell_type": "code",
   "execution_count": null,
   "metadata": {},
   "outputs": [],
   "source": [
    "pkg_path = '../src/'\n",
    "\n",
    "sys.path.append(pkg_path)\n",
    "import data_acquisition as da"
   ]
  },
  {
   "cell_type": "code",
   "execution_count": null,
   "metadata": {},
   "outputs": [],
   "source": [
    "# Reload module (incase new update)\n",
    "import importlib\n",
    "importlib.reload(da)"
   ]
  },
  {
   "cell_type": "code",
   "execution_count": null,
   "metadata": {},
   "outputs": [],
   "source": [
    "# Define logging module\n",
    "logging.basicConfig(filename=f'../log/{timestamp}_OSM_crawler.log', \n",
    "                    filemode='w',\n",
    "                    format='%(asctime)s %(message)s', \n",
    "                    datefmt='%m/%d/%Y %I:%M:%S%p',\n",
    "                    level=logging.INFO)\n",
    "\n",
    "logging.info('Start logging...')"
   ]
  },
  {
   "cell_type": "markdown",
   "metadata": {},
   "source": [
    "## Inputs / Outputs"
   ]
  },
  {
   "cell_type": "code",
   "execution_count": null,
   "metadata": {},
   "outputs": [],
   "source": [
    "plz_csv = '../data/01_raw/plz_einwohner.csv'"
   ]
  },
  {
   "cell_type": "code",
   "execution_count": null,
   "metadata": {},
   "outputs": [],
   "source": [
    "# Postal code list with population data (2011)\n",
    "plz_de = pd.read_csv(plz_csv,\n",
    "                    dtype={'plz': str, 'einwhoner': int}) # specify column types"
   ]
  },
  {
   "cell_type": "code",
   "execution_count": null,
   "metadata": {},
   "outputs": [],
   "source": [
    "# Get all existing PLZs\n",
    "import os\n",
    "name_list = os.listdir('../data/01_raw/buildings_plz/')\n",
    "\n",
    "done_plz = [x.split('.')[0].split('_')[1] for x in name_list if 'buildings' in x]"
   ]
  },
  {
   "cell_type": "code",
   "execution_count": null,
   "metadata": {},
   "outputs": [],
   "source": [
    "# Update to get to-be-crawled list\n",
    "plz_de = plz_de[plz_de.plz.isin(done_plz) == False].reset_index(drop = True)"
   ]
  },
  {
   "cell_type": "code",
   "execution_count": null,
   "metadata": {},
   "outputs": [],
   "source": [
    "start = 0\n",
    "end = len(plz_de)\n",
    "\n",
    "logging.info('Start from postal code {0} at {1}/{2}'.format(plz_de.plz[start], start, end))"
   ]
  },
  {
   "cell_type": "markdown",
   "metadata": {},
   "source": [
    "## Scan OSM for buildings per postal codes\n",
    "\n",
    "Save result to each postal code csv"
   ]
  },
  {
   "cell_type": "code",
   "execution_count": null,
   "metadata": {},
   "outputs": [],
   "source": [
    "while start <= end:\n",
    "    # Get all the building foot prints in target postal code\n",
    "    target_plz = plz_de.plz[start]\n",
    "    \n",
    "    start = start + 1\n",
    "    \n",
    "    # Extract buildings\n",
    "    results_df = da.get_buildings_plz(target_plz)\n",
    "    \n",
    "    plz_path = f'../data/01_raw/buildings_plz/buildings_{target_plz}.csv'\n",
    "    \n",
    "    # Save results\n",
    "    if results_df.empty == True:\n",
    "        logging.error('Can not extract buildings for postal code {0}'.format(target_plz))\n",
    "    else:\n",
    "        # Saving files\n",
    "        da.save_building_result(results_df, target_plz, plz_path)\n",
    "        logging.info('Complete extraction for postal code {0} at position {1}/{2}'.format(target_plz, start, end))"
   ]
  },
  {
   "cell_type": "code",
   "execution_count": null,
   "metadata": {},
   "outputs": [],
   "source": [
    "logging.shutdown()"
   ]
  }
 ],
 "metadata": {
  "kernelspec": {
   "display_name": "CheapAtlas",
   "language": "python",
   "name": "python3"
  },
  "language_info": {
   "codemirror_mode": {
    "name": "ipython",
    "version": 3
   },
   "file_extension": ".py",
   "mimetype": "text/x-python",
   "name": "python",
   "nbconvert_exporter": "python",
   "pygments_lexer": "ipython3",
   "version": "3.7.8"
  }
 },
 "nbformat": 4,
 "nbformat_minor": 4
}
