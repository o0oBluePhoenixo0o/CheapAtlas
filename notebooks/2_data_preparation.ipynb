{
 "cells": [
  {
   "cell_type": "markdown",
   "metadata": {},
   "source": [
    "# Data preparation"
   ]
  },
  {
   "cell_type": "markdown",
   "metadata": {},
   "source": [
    " **Methodology**\n",
    "\n",
    "For each postal code:\n",
    "\n",
    "1. For each postal code (PLZ) perform cross-check with OSM data dump from Geofabrik to populate building object info with:\n",
    "    1. Region name from OSM dump\n",
    "    1. Geometry info (polygon coords)\n",
    "1. Calculate total area for all objects\n",
    "-------------\n",
    "To do list:\n",
    "\n",
    "1. Classify buildings into types (manual)\n",
    "1. Group buildings by type to get for each type (residential, industrial,...etc.)\n",
    "    1. Rectangularity (area of polygon / area of minimum bounding box of polygon)\n",
    "    1. Total area"
   ]
  },
  {
   "cell_type": "markdown",
   "metadata": {},
   "source": [
    "# Initialization"
   ]
  },
  {
   "cell_type": "code",
   "execution_count": null,
   "metadata": {},
   "outputs": [],
   "source": [
    "import warnings\n",
    "warnings.filterwarnings(\"ignore\", category=DeprecationWarning)"
   ]
  },
  {
   "cell_type": "code",
   "execution_count": null,
   "metadata": {},
   "outputs": [],
   "source": [
    "import pandas as pd\n",
    "import numpy as np\n",
    "import sys\n",
    "import os\n",
    "\n",
    "from pyrosm import OSM"
   ]
  },
  {
   "cell_type": "markdown",
   "metadata": {},
   "source": [
    "## Load custom modules"
   ]
  },
  {
   "cell_type": "code",
   "execution_count": null,
   "metadata": {},
   "outputs": [],
   "source": [
    "import data_preparation as dp\n",
    "import gemeindeverz\n",
    "import helpers"
   ]
  },
  {
   "cell_type": "code",
   "execution_count": null,
   "metadata": {},
   "outputs": [],
   "source": [
    "# Reload module (incase new update)\n",
    "import importlib\n",
    "importlib.reload(gemeindeverz)"
   ]
  },
  {
   "cell_type": "code",
   "execution_count": null,
   "metadata": {},
   "outputs": [],
   "source": [
    "pd.set_option('display.max_rows', 1000)\n",
    "pd.set_option('display.max_columns', None)\n",
    "pd.set_option('display.width', None)\n",
    "pd.set_option('display.max_colwidth', None)"
   ]
  },
  {
   "cell_type": "markdown",
   "metadata": {},
   "source": [
    "# Input"
   ]
  },
  {
   "cell_type": "code",
   "execution_count": null,
   "metadata": {},
   "outputs": [],
   "source": [
    "# Obtain from https://www.destatis.de/DE/Themen/Laender-Regionen/Regionales/Gemeindeverzeichnis/_inhalt.html\n",
    "GV_path = '../data/01_raw/GV/GV100AD_301120.asc'\n",
    "# plz land list\n",
    "plz_ags_csv = '../data/01_raw/zuordnung_plz_ort_landkreis.csv'"
   ]
  },
  {
   "cell_type": "code",
   "execution_count": null,
   "metadata": {},
   "outputs": [],
   "source": [
    "buildings_data_location = '../data/01_raw/buildings_data/'\n",
    "geofabrik_location = '../data/01_raw/geofabrik/'\n",
    "buildings_int_location = '../data/02_intermediate/buildings_data/'"
   ]
  },
  {
   "cell_type": "code",
   "execution_count": null,
   "metadata": {},
   "outputs": [],
   "source": [
    "# Create ags code dict for each state / region\n",
    "region_ags_dict = {\n",
    "    # BE_BB\n",
    "    'brandenburg-latest.osm.pbf': ['11','12'],\n",
    "    # BW\n",
    "    'freiburg-regbez-latest.osm.pbf': ['083'],\n",
    "    'karlsruhe-regbez-latest.osm.pbf': ['082'],\n",
    "    'stuttgart-regbez-latest.osm.pbf': ['081'],\n",
    "    'tuebingen-regbez-latest.osm.pbf': ['084'],\n",
    "    # BY\n",
    "    'mittelfranken-latest.osm.pbf': ['095'],\n",
    "    'niederbayern-latest.osm.pbf': ['092'],\n",
    "    'oberbayern-latest.osm.pbf': ['091'],\n",
    "    'oberfranken-latest.osm.pbf': ['094'],\n",
    "    'oberpfalz-latest.osm.pbf': ['093'],\n",
    "    'schwaben-latest.osm.pbf': ['097'],\n",
    "    'unterfranken-latest.osm.pbf': ['096'],\n",
    "    # HB\n",
    "    'bremen-latest.osm.pbf': ['04'],\n",
    "    # HE\n",
    "    'hessen-latest.osm.pbf': ['06'],\n",
    "    # HH\n",
    "    'hamburg-latest.osm.pbf': ['02'],\n",
    "    # MV\n",
    "    'mecklenburg-vorpommern-latest.osm.pbf': ['13'],\n",
    "    # NI\n",
    "    'niedersachsen-latest.osm.pbf': ['03'],\n",
    "    # NW\n",
    "    'arnsberg-regbez-latest.osm.pbf': ['059'],\n",
    "    'detmold-regbez-latest.osm.pbf': ['057'],\n",
    "    'duesseldorf-regbez-latest.osm.pbf': ['051'],\n",
    "    'koeln-regbez-latest.osm.pbf': ['053'],\n",
    "    'muenster-regbez-latest.osm.pbf': ['055'],\n",
    "    # RP\n",
    "    'rheinland-pfalz-latest.osm.pbf': ['07'],\n",
    "    # SH\n",
    "    'schleswig-holstein-latest.osm.pbf': ['01'],\n",
    "    # SL\n",
    "    'saarland-latest.osm.pbf': ['10'],\n",
    "    # SN\n",
    "    'sachsen-latest.osm.pbf': ['14'],\n",
    "    # ST\n",
    "    'sachsen-anhalt-latest.osm.pbf': ['15'],\n",
    "    # TH\n",
    "    'thueringen-latest.osm.pbf': ['16']\n",
    "}"
   ]
  },
  {
   "cell_type": "code",
   "execution_count": null,
   "metadata": {},
   "outputs": [],
   "source": [
    "plz_ags = pd.read_csv(plz_ags_csv, dtype = {'plz': str,\n",
    "                                            'ags':str})"
   ]
  },
  {
   "cell_type": "code",
   "execution_count": null,
   "metadata": {},
   "outputs": [],
   "source": [
    "plz_ags.plz.nunique()"
   ]
  },
  {
   "cell_type": "code",
   "execution_count": null,
   "metadata": {},
   "outputs": [],
   "source": [
    "plz_ags.ags.nunique()"
   ]
  },
  {
   "cell_type": "code",
   "execution_count": null,
   "metadata": {},
   "outputs": [],
   "source": [
    "boundary_type = 'ags'"
   ]
  },
  {
   "cell_type": "code",
   "execution_count": null,
   "metadata": {},
   "outputs": [],
   "source": [
    "# Community directory dataframe\n",
    "# Use this file to manually get ags code for region available on Geofabrik (inside state)\n",
    "com_dir_df = gemeindeverz.einlesen(GV_path)\n",
    "com_dir_df[com_dir_df.gemeinde_bez.str.contains('thüringen', case = False)]"
   ]
  },
  {
   "cell_type": "markdown",
   "metadata": {},
   "source": [
    "# Process"
   ]
  },
  {
   "cell_type": "markdown",
   "metadata": {},
   "source": [
    "## Get buildings in region"
   ]
  },
  {
   "cell_type": "code",
   "execution_count": null,
   "metadata": {},
   "outputs": [],
   "source": [
    "# Extract plz list\n",
    "id_list = os.listdir(buildings_data_location)\n",
    "id_list = [x.split('.')[0].split('_')[2] for x in id_list if 'buildings' in x]\n",
    "id_list[0:10]"
   ]
  },
  {
   "cell_type": "code",
   "execution_count": null,
   "metadata": {},
   "outputs": [],
   "source": [
    "# full path pbf\n",
    "region_list_path = [os.path.join(path, name) for path, subdirs, files in os.walk(geofabrik_location) for name in files]\n",
    "# pbf name\n",
    "pbf_list = [name for path, subdirs, files in os.walk(geofabrik_location) for name in files]\n",
    "pbf_list"
   ]
  },
  {
   "cell_type": "code",
   "execution_count": null,
   "metadata": {},
   "outputs": [],
   "source": [
    "i = 8"
   ]
  },
  {
   "cell_type": "code",
   "execution_count": null,
   "metadata": {},
   "outputs": [],
   "source": [
    "# Get target region\n",
    "target_region_path = region_list_path[i]\n",
    "target_region = pbf_list[i]\n",
    "target_region"
   ]
  },
  {
   "cell_type": "code",
   "execution_count": null,
   "metadata": {},
   "outputs": [],
   "source": [
    "# Get ags belong to the target region\n",
    "target_ags_list = region_ags_dict.get(target_region)\n",
    "target_ags_list"
   ]
  },
  {
   "cell_type": "code",
   "execution_count": null,
   "metadata": {},
   "outputs": [],
   "source": [
    "ags_len = len(target_ags_list[0])\n",
    "ags_len"
   ]
  },
  {
   "cell_type": "code",
   "execution_count": null,
   "metadata": {},
   "outputs": [],
   "source": [
    "# Initialize the OSM parser object\n",
    "osm = OSM(target_region_path)"
   ]
  },
  {
   "cell_type": "code",
   "execution_count": null,
   "metadata": {},
   "outputs": [],
   "source": [
    "%%time\n",
    "buildings = osm.get_buildings()"
   ]
  },
  {
   "cell_type": "markdown",
   "metadata": {},
   "source": [
    "## Get boundary_ids in region"
   ]
  },
  {
   "cell_type": "code",
   "execution_count": null,
   "metadata": {},
   "outputs": [],
   "source": [
    "# Extract info of all PLZ belong to that region\n",
    "region_id_list = plz_ags[(dp.left(plz_ags.ags.str, ags_len).isin(target_ags_list))][[boundary_type]].drop_duplicates().reset_index(drop=True)\n",
    "\n",
    "print(f'Number of {boundary_type}(s) in region of {target_region} is {region_id_list.shape[0]}')"
   ]
  },
  {
   "cell_type": "markdown",
   "metadata": {},
   "source": [
    "## Read in boundary_type file"
   ]
  },
  {
   "cell_type": "code",
   "execution_count": null,
   "metadata": {},
   "outputs": [],
   "source": [
    "if not os.path.exists(buildings_int_location):\n",
    "    os.makedirs(buildings_int_location)"
   ]
  },
  {
   "cell_type": "code",
   "execution_count": null,
   "metadata": {},
   "outputs": [],
   "source": [
    "# Check for progress of already enhanced areas\n",
    "name_list = os.listdir(buildings_int_location)\n",
    "id_list = [x.split('.')[0].split('_')[2] for x in name_list if 'buildings' in x]\n",
    "\n",
    "# Get to-be-enhanced list\n",
    "region_id_list = pd.DataFrame(np.setdiff1d(region_id_list, id_list), columns = [boundary_type])\n",
    "logging.info(f'Total of {len(region_id_list)} {boundary_type}(s) in the region')"
   ]
  },
  {
   "cell_type": "code",
   "execution_count": null,
   "metadata": {},
   "outputs": [],
   "source": [
    "boundary_id = region_id_list[boundary_type].iloc[0]\n",
    "boundary_id"
   ]
  },
  {
   "cell_type": "code",
   "execution_count": null,
   "metadata": {},
   "outputs": [],
   "source": [
    "buildings_boundary_path = f'../data/01_raw/buildings_data/buildings_{boundary_type}_{boundary_id}.csv'\n",
    "buildings_boundary_path"
   ]
  },
  {
   "cell_type": "code",
   "execution_count": null,
   "metadata": {},
   "outputs": [],
   "source": [
    "# Read in building objects data in the postal code\n",
    "df = pd.read_csv(buildings_boundary_path,\n",
    "                 dtype={'tags.addr:suburb': 'object',\n",
    "                        'tags.building:levels': 'object',\n",
    "                        'tags.source': str,\n",
    "                        'tags.addr:postcode': str},\n",
    "                 converters={\"nodes\": lambda x: x.strip(\"[]\").split(\", \")}) # read column as list\n",
    "\n",
    "# remove empty elements (no lat/lon)\n",
    "df = df[df['center.lat'].isna() == False].reset_index(drop=True)\n",
    "\n",
    "# replace NaN in building_levels\n",
    "df = df.rename(columns = {'tags.building:levels': 'building_levels',\n",
    "                          'tags.addr:postcode' : 'postcode'})\n",
    "\n",
    "df.building_levels = df.building_levels.fillna(1)\n",
    "\n",
    "f'Total of {len(df)} buildings in {boundary_type} {boundary_id}'"
   ]
  },
  {
   "cell_type": "markdown",
   "metadata": {},
   "source": [
    "## Populate data into PLZ building objects"
   ]
  },
  {
   "cell_type": "code",
   "execution_count": null,
   "metadata": {},
   "outputs": [],
   "source": [
    "df_res = df.merge(buildings[['id','geometry','timestamp']],\n",
    "                  how = 'left',\n",
    "                  on = 'id')"
   ]
  },
  {
   "cell_type": "code",
   "execution_count": null,
   "metadata": {},
   "outputs": [],
   "source": [
    "df_res.geometry = df_res.geometry.fillna(np.nan)"
   ]
  },
  {
   "cell_type": "code",
   "execution_count": null,
   "metadata": {},
   "outputs": [],
   "source": [
    "# Calculate total area for all building objects\n",
    "df_res['surface_area'] = df_res.geometry.apply(lambda x: dp.calculate_surface_area(x) * 10**10)\n",
    "df_res['total_area'] = df['building_levels'].astype(int) * df_res['surface_area']"
   ]
  },
  {
   "cell_type": "code",
   "execution_count": null,
   "metadata": {},
   "outputs": [],
   "source": [
    "# Classify to building types\n",
    "df_res['building_types'] = df_res['tags.building'].apply(lambda x: dp.manual_classify_building(x))"
   ]
  },
  {
   "cell_type": "code",
   "execution_count": null,
   "metadata": {},
   "outputs": [],
   "source": [
    "# # Save result to 02_intermediate/buildings_plz/buildings_<plz>.csv\n",
    "# output_path = '../data/02_intermediate/buildings_plz/'\n",
    "\n",
    "# # create saving location folder if not exists\n",
    "# if not os.path.exists(output_path):\n",
    "#     os.makedirs(output_path)\n",
    "# df_res.to_csv(output_path + f'buildings_{plz}.csv', index = False)"
   ]
  }
 ],
 "metadata": {
  "kernelspec": {
   "display_name": "CheapAtlas",
   "language": "python",
   "name": "python3"
  },
  "language_info": {
   "codemirror_mode": {
    "name": "ipython",
    "version": 3
   },
   "file_extension": ".py",
   "mimetype": "text/x-python",
   "name": "python",
   "nbconvert_exporter": "python",
   "pygments_lexer": "ipython3",
   "version": "3.7.8"
  },
  "toc-autonumbering": true,
  "toc-showcode": false,
  "toc-showmarkdowntxt": false,
  "toc-showtags": false
 },
 "nbformat": 4,
 "nbformat_minor": 4
}
