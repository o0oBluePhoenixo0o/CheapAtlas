{
 "cells": [
  {
   "cell_type": "markdown",
   "metadata": {},
   "source": [
    "# Data preparation"
   ]
  },
  {
   "cell_type": "markdown",
   "metadata": {},
   "source": [
    "## Methodology\n",
    "\n",
    "For each postal code:\n",
    "\n",
    "1. Classify buildings into types (manual)\n",
    "1. Calculate total area for all objects\n",
    "1. Group buildings by type to get for each type (residential, industrial,...etc.)\n",
    "    1. Rectangularity (area of polygon / area of minimum bounding box of polygon)\n",
    "    1. Total area"
   ]
  },
  {
   "cell_type": "markdown",
   "metadata": {},
   "source": [
    "# Initialization"
   ]
  },
  {
   "cell_type": "code",
   "execution_count": 1,
   "metadata": {},
   "outputs": [],
   "source": [
    "import pandas as pd\n",
    "import numpy as np\n",
    "import sys\n",
    "\n",
    "from datetime import datetime\n",
    "timestamp = datetime.now().strftime(\"%d%m%y\")"
   ]
  },
  {
   "cell_type": "markdown",
   "metadata": {},
   "source": [
    "## Load custom modules"
   ]
  },
  {
   "cell_type": "code",
   "execution_count": 2,
   "metadata": {},
   "outputs": [
    {
     "data": {
      "text/html": [
       "\n",
       "    <div class=\"bk-root\">\n",
       "        <a href=\"https://bokeh.org\" target=\"_blank\" class=\"bk-logo bk-logo-small bk-logo-notebook\"></a>\n",
       "        <span id=\"1001\">Loading BokehJS ...</span>\n",
       "    </div>"
      ]
     },
     "metadata": {},
     "output_type": "display_data"
    },
    {
     "data": {
      "application/javascript": [
       "\n",
       "(function(root) {\n",
       "  function now() {\n",
       "    return new Date();\n",
       "  }\n",
       "\n",
       "  var force = true;\n",
       "\n",
       "  if (typeof root._bokeh_onload_callbacks === \"undefined\" || force === true) {\n",
       "    root._bokeh_onload_callbacks = [];\n",
       "    root._bokeh_is_loading = undefined;\n",
       "  }\n",
       "\n",
       "  var JS_MIME_TYPE = 'application/javascript';\n",
       "  var HTML_MIME_TYPE = 'text/html';\n",
       "  var EXEC_MIME_TYPE = 'application/vnd.bokehjs_exec.v0+json';\n",
       "  var CLASS_NAME = 'output_bokeh rendered_html';\n",
       "\n",
       "  /**\n",
       "   * Render data to the DOM node\n",
       "   */\n",
       "  function render(props, node) {\n",
       "    var script = document.createElement(\"script\");\n",
       "    node.appendChild(script);\n",
       "  }\n",
       "\n",
       "  /**\n",
       "   * Handle when an output is cleared or removed\n",
       "   */\n",
       "  function handleClearOutput(event, handle) {\n",
       "    var cell = handle.cell;\n",
       "\n",
       "    var id = cell.output_area._bokeh_element_id;\n",
       "    var server_id = cell.output_area._bokeh_server_id;\n",
       "    // Clean up Bokeh references\n",
       "    if (id != null && id in Bokeh.index) {\n",
       "      Bokeh.index[id].model.document.clear();\n",
       "      delete Bokeh.index[id];\n",
       "    }\n",
       "\n",
       "    if (server_id !== undefined) {\n",
       "      // Clean up Bokeh references\n",
       "      var cmd = \"from bokeh.io.state import curstate; print(curstate().uuid_to_server['\" + server_id + \"'].get_sessions()[0].document.roots[0]._id)\";\n",
       "      cell.notebook.kernel.execute(cmd, {\n",
       "        iopub: {\n",
       "          output: function(msg) {\n",
       "            var id = msg.content.text.trim();\n",
       "            if (id in Bokeh.index) {\n",
       "              Bokeh.index[id].model.document.clear();\n",
       "              delete Bokeh.index[id];\n",
       "            }\n",
       "          }\n",
       "        }\n",
       "      });\n",
       "      // Destroy server and session\n",
       "      var cmd = \"import bokeh.io.notebook as ion; ion.destroy_server('\" + server_id + \"')\";\n",
       "      cell.notebook.kernel.execute(cmd);\n",
       "    }\n",
       "  }\n",
       "\n",
       "  /**\n",
       "   * Handle when a new output is added\n",
       "   */\n",
       "  function handleAddOutput(event, handle) {\n",
       "    var output_area = handle.output_area;\n",
       "    var output = handle.output;\n",
       "\n",
       "    // limit handleAddOutput to display_data with EXEC_MIME_TYPE content only\n",
       "    if ((output.output_type != \"display_data\") || (!output.data.hasOwnProperty(EXEC_MIME_TYPE))) {\n",
       "      return\n",
       "    }\n",
       "\n",
       "    var toinsert = output_area.element.find(\".\" + CLASS_NAME.split(' ')[0]);\n",
       "\n",
       "    if (output.metadata[EXEC_MIME_TYPE][\"id\"] !== undefined) {\n",
       "      toinsert[toinsert.length - 1].firstChild.textContent = output.data[JS_MIME_TYPE];\n",
       "      // store reference to embed id on output_area\n",
       "      output_area._bokeh_element_id = output.metadata[EXEC_MIME_TYPE][\"id\"];\n",
       "    }\n",
       "    if (output.metadata[EXEC_MIME_TYPE][\"server_id\"] !== undefined) {\n",
       "      var bk_div = document.createElement(\"div\");\n",
       "      bk_div.innerHTML = output.data[HTML_MIME_TYPE];\n",
       "      var script_attrs = bk_div.children[0].attributes;\n",
       "      for (var i = 0; i < script_attrs.length; i++) {\n",
       "        toinsert[toinsert.length - 1].firstChild.setAttribute(script_attrs[i].name, script_attrs[i].value);\n",
       "        toinsert[toinsert.length - 1].firstChild.textContent = bk_div.children[0].textContent\n",
       "      }\n",
       "      // store reference to server id on output_area\n",
       "      output_area._bokeh_server_id = output.metadata[EXEC_MIME_TYPE][\"server_id\"];\n",
       "    }\n",
       "  }\n",
       "\n",
       "  function register_renderer(events, OutputArea) {\n",
       "\n",
       "    function append_mime(data, metadata, element) {\n",
       "      // create a DOM node to render to\n",
       "      var toinsert = this.create_output_subarea(\n",
       "        metadata,\n",
       "        CLASS_NAME,\n",
       "        EXEC_MIME_TYPE\n",
       "      );\n",
       "      this.keyboard_manager.register_events(toinsert);\n",
       "      // Render to node\n",
       "      var props = {data: data, metadata: metadata[EXEC_MIME_TYPE]};\n",
       "      render(props, toinsert[toinsert.length - 1]);\n",
       "      element.append(toinsert);\n",
       "      return toinsert\n",
       "    }\n",
       "\n",
       "    /* Handle when an output is cleared or removed */\n",
       "    events.on('clear_output.CodeCell', handleClearOutput);\n",
       "    events.on('delete.Cell', handleClearOutput);\n",
       "\n",
       "    /* Handle when a new output is added */\n",
       "    events.on('output_added.OutputArea', handleAddOutput);\n",
       "\n",
       "    /**\n",
       "     * Register the mime type and append_mime function with output_area\n",
       "     */\n",
       "    OutputArea.prototype.register_mime_type(EXEC_MIME_TYPE, append_mime, {\n",
       "      /* Is output safe? */\n",
       "      safe: true,\n",
       "      /* Index of renderer in `output_area.display_order` */\n",
       "      index: 0\n",
       "    });\n",
       "  }\n",
       "\n",
       "  // register the mime type if in Jupyter Notebook environment and previously unregistered\n",
       "  if (root.Jupyter !== undefined) {\n",
       "    var events = require('base/js/events');\n",
       "    var OutputArea = require('notebook/js/outputarea').OutputArea;\n",
       "\n",
       "    if (OutputArea.prototype.mime_types().indexOf(EXEC_MIME_TYPE) == -1) {\n",
       "      register_renderer(events, OutputArea);\n",
       "    }\n",
       "  }\n",
       "\n",
       "  \n",
       "  if (typeof (root._bokeh_timeout) === \"undefined\" || force === true) {\n",
       "    root._bokeh_timeout = Date.now() + 5000;\n",
       "    root._bokeh_failed_load = false;\n",
       "  }\n",
       "\n",
       "  var NB_LOAD_WARNING = {'data': {'text/html':\n",
       "     \"<div style='background-color: #fdd'>\\n\"+\n",
       "     \"<p>\\n\"+\n",
       "     \"BokehJS does not appear to have successfully loaded. If loading BokehJS from CDN, this \\n\"+\n",
       "     \"may be due to a slow or bad network connection. Possible fixes:\\n\"+\n",
       "     \"</p>\\n\"+\n",
       "     \"<ul>\\n\"+\n",
       "     \"<li>re-rerun `output_notebook()` to attempt to load from CDN again, or</li>\\n\"+\n",
       "     \"<li>use INLINE resources instead, as so:</li>\\n\"+\n",
       "     \"</ul>\\n\"+\n",
       "     \"<code>\\n\"+\n",
       "     \"from bokeh.resources import INLINE\\n\"+\n",
       "     \"output_notebook(resources=INLINE)\\n\"+\n",
       "     \"</code>\\n\"+\n",
       "     \"</div>\"}};\n",
       "\n",
       "  function display_loaded() {\n",
       "    var el = document.getElementById(\"1001\");\n",
       "    if (el != null) {\n",
       "      el.textContent = \"BokehJS is loading...\";\n",
       "    }\n",
       "    if (root.Bokeh !== undefined) {\n",
       "      if (el != null) {\n",
       "        el.textContent = \"BokehJS \" + root.Bokeh.version + \" successfully loaded.\";\n",
       "      }\n",
       "    } else if (Date.now() < root._bokeh_timeout) {\n",
       "      setTimeout(display_loaded, 100)\n",
       "    }\n",
       "  }\n",
       "\n",
       "\n",
       "  function run_callbacks() {\n",
       "    try {\n",
       "      root._bokeh_onload_callbacks.forEach(function(callback) {\n",
       "        if (callback != null)\n",
       "          callback();\n",
       "      });\n",
       "    } finally {\n",
       "      delete root._bokeh_onload_callbacks\n",
       "    }\n",
       "    console.debug(\"Bokeh: all callbacks have finished\");\n",
       "  }\n",
       "\n",
       "  function load_libs(css_urls, js_urls, callback) {\n",
       "    if (css_urls == null) css_urls = [];\n",
       "    if (js_urls == null) js_urls = [];\n",
       "\n",
       "    root._bokeh_onload_callbacks.push(callback);\n",
       "    if (root._bokeh_is_loading > 0) {\n",
       "      console.debug(\"Bokeh: BokehJS is being loaded, scheduling callback at\", now());\n",
       "      return null;\n",
       "    }\n",
       "    if (js_urls == null || js_urls.length === 0) {\n",
       "      run_callbacks();\n",
       "      return null;\n",
       "    }\n",
       "    console.debug(\"Bokeh: BokehJS not loaded, scheduling load and callback at\", now());\n",
       "    root._bokeh_is_loading = css_urls.length + js_urls.length;\n",
       "\n",
       "    function on_load() {\n",
       "      root._bokeh_is_loading--;\n",
       "      if (root._bokeh_is_loading === 0) {\n",
       "        console.debug(\"Bokeh: all BokehJS libraries/stylesheets loaded\");\n",
       "        run_callbacks()\n",
       "      }\n",
       "    }\n",
       "\n",
       "    function on_error() {\n",
       "      console.error(\"failed to load \" + url);\n",
       "    }\n",
       "\n",
       "    for (var i = 0; i < css_urls.length; i++) {\n",
       "      var url = css_urls[i];\n",
       "      const element = document.createElement(\"link\");\n",
       "      element.onload = on_load;\n",
       "      element.onerror = on_error;\n",
       "      element.rel = \"stylesheet\";\n",
       "      element.type = \"text/css\";\n",
       "      element.href = url;\n",
       "      console.debug(\"Bokeh: injecting link tag for BokehJS stylesheet: \", url);\n",
       "      document.body.appendChild(element);\n",
       "    }\n",
       "\n",
       "    const hashes = {\"https://cdn.bokeh.org/bokeh/release/bokeh-2.2.3.min.js\": \"T2yuo9Oe71Cz/I4X9Ac5+gpEa5a8PpJCDlqKYO0CfAuEszu1JrXLl8YugMqYe3sM\", \"https://cdn.bokeh.org/bokeh/release/bokeh-widgets-2.2.3.min.js\": \"98GDGJ0kOMCUMUePhksaQ/GYgB3+NH9h996V88sh3aOiUNX3N+fLXAtry6xctSZ6\", \"https://cdn.bokeh.org/bokeh/release/bokeh-tables-2.2.3.min.js\": \"89bArO+nlbP3sgakeHjCo1JYxYR5wufVgA3IbUvDY+K7w4zyxJqssu7wVnfeKCq8\"};\n",
       "\n",
       "    for (var i = 0; i < js_urls.length; i++) {\n",
       "      var url = js_urls[i];\n",
       "      var element = document.createElement('script');\n",
       "      element.onload = on_load;\n",
       "      element.onerror = on_error;\n",
       "      element.async = false;\n",
       "      element.src = url;\n",
       "      if (url in hashes) {\n",
       "        element.crossOrigin = \"anonymous\";\n",
       "        element.integrity = \"sha384-\" + hashes[url];\n",
       "      }\n",
       "      console.debug(\"Bokeh: injecting script tag for BokehJS library: \", url);\n",
       "      document.head.appendChild(element);\n",
       "    }\n",
       "  };\n",
       "\n",
       "  function inject_raw_css(css) {\n",
       "    const element = document.createElement(\"style\");\n",
       "    element.appendChild(document.createTextNode(css));\n",
       "    document.body.appendChild(element);\n",
       "  }\n",
       "\n",
       "  \n",
       "  var js_urls = [\"https://cdn.bokeh.org/bokeh/release/bokeh-2.2.3.min.js\", \"https://cdn.bokeh.org/bokeh/release/bokeh-widgets-2.2.3.min.js\", \"https://cdn.bokeh.org/bokeh/release/bokeh-tables-2.2.3.min.js\"];\n",
       "  var css_urls = [];\n",
       "  \n",
       "\n",
       "  var inline_js = [\n",
       "    function(Bokeh) {\n",
       "      Bokeh.set_log_level(\"info\");\n",
       "    },\n",
       "    function(Bokeh) {\n",
       "    \n",
       "    \n",
       "    }\n",
       "  ];\n",
       "\n",
       "  function run_inline_js() {\n",
       "    \n",
       "    if (root.Bokeh !== undefined || force === true) {\n",
       "      \n",
       "    for (var i = 0; i < inline_js.length; i++) {\n",
       "      inline_js[i].call(root, root.Bokeh);\n",
       "    }\n",
       "    if (force === true) {\n",
       "        display_loaded();\n",
       "      }} else if (Date.now() < root._bokeh_timeout) {\n",
       "      setTimeout(run_inline_js, 100);\n",
       "    } else if (!root._bokeh_failed_load) {\n",
       "      console.log(\"Bokeh: BokehJS failed to load within specified timeout.\");\n",
       "      root._bokeh_failed_load = true;\n",
       "    } else if (force !== true) {\n",
       "      var cell = $(document.getElementById(\"1001\")).parents('.cell').data().cell;\n",
       "      cell.output_area.append_execute_result(NB_LOAD_WARNING)\n",
       "    }\n",
       "\n",
       "  }\n",
       "\n",
       "  if (root._bokeh_is_loading === 0) {\n",
       "    console.debug(\"Bokeh: BokehJS loaded, going straight to plotting\");\n",
       "    run_inline_js();\n",
       "  } else {\n",
       "    load_libs(css_urls, js_urls, function() {\n",
       "      console.debug(\"Bokeh: BokehJS plotting callback run at\", now());\n",
       "      run_inline_js();\n",
       "    });\n",
       "  }\n",
       "}(window));"
      ],
      "application/vnd.bokehjs_load.v0+json": "\n(function(root) {\n  function now() {\n    return new Date();\n  }\n\n  var force = true;\n\n  if (typeof root._bokeh_onload_callbacks === \"undefined\" || force === true) {\n    root._bokeh_onload_callbacks = [];\n    root._bokeh_is_loading = undefined;\n  }\n\n  \n\n  \n  if (typeof (root._bokeh_timeout) === \"undefined\" || force === true) {\n    root._bokeh_timeout = Date.now() + 5000;\n    root._bokeh_failed_load = false;\n  }\n\n  var NB_LOAD_WARNING = {'data': {'text/html':\n     \"<div style='background-color: #fdd'>\\n\"+\n     \"<p>\\n\"+\n     \"BokehJS does not appear to have successfully loaded. If loading BokehJS from CDN, this \\n\"+\n     \"may be due to a slow or bad network connection. Possible fixes:\\n\"+\n     \"</p>\\n\"+\n     \"<ul>\\n\"+\n     \"<li>re-rerun `output_notebook()` to attempt to load from CDN again, or</li>\\n\"+\n     \"<li>use INLINE resources instead, as so:</li>\\n\"+\n     \"</ul>\\n\"+\n     \"<code>\\n\"+\n     \"from bokeh.resources import INLINE\\n\"+\n     \"output_notebook(resources=INLINE)\\n\"+\n     \"</code>\\n\"+\n     \"</div>\"}};\n\n  function display_loaded() {\n    var el = document.getElementById(\"1001\");\n    if (el != null) {\n      el.textContent = \"BokehJS is loading...\";\n    }\n    if (root.Bokeh !== undefined) {\n      if (el != null) {\n        el.textContent = \"BokehJS \" + root.Bokeh.version + \" successfully loaded.\";\n      }\n    } else if (Date.now() < root._bokeh_timeout) {\n      setTimeout(display_loaded, 100)\n    }\n  }\n\n\n  function run_callbacks() {\n    try {\n      root._bokeh_onload_callbacks.forEach(function(callback) {\n        if (callback != null)\n          callback();\n      });\n    } finally {\n      delete root._bokeh_onload_callbacks\n    }\n    console.debug(\"Bokeh: all callbacks have finished\");\n  }\n\n  function load_libs(css_urls, js_urls, callback) {\n    if (css_urls == null) css_urls = [];\n    if (js_urls == null) js_urls = [];\n\n    root._bokeh_onload_callbacks.push(callback);\n    if (root._bokeh_is_loading > 0) {\n      console.debug(\"Bokeh: BokehJS is being loaded, scheduling callback at\", now());\n      return null;\n    }\n    if (js_urls == null || js_urls.length === 0) {\n      run_callbacks();\n      return null;\n    }\n    console.debug(\"Bokeh: BokehJS not loaded, scheduling load and callback at\", now());\n    root._bokeh_is_loading = css_urls.length + js_urls.length;\n\n    function on_load() {\n      root._bokeh_is_loading--;\n      if (root._bokeh_is_loading === 0) {\n        console.debug(\"Bokeh: all BokehJS libraries/stylesheets loaded\");\n        run_callbacks()\n      }\n    }\n\n    function on_error() {\n      console.error(\"failed to load \" + url);\n    }\n\n    for (var i = 0; i < css_urls.length; i++) {\n      var url = css_urls[i];\n      const element = document.createElement(\"link\");\n      element.onload = on_load;\n      element.onerror = on_error;\n      element.rel = \"stylesheet\";\n      element.type = \"text/css\";\n      element.href = url;\n      console.debug(\"Bokeh: injecting link tag for BokehJS stylesheet: \", url);\n      document.body.appendChild(element);\n    }\n\n    const hashes = {\"https://cdn.bokeh.org/bokeh/release/bokeh-2.2.3.min.js\": \"T2yuo9Oe71Cz/I4X9Ac5+gpEa5a8PpJCDlqKYO0CfAuEszu1JrXLl8YugMqYe3sM\", \"https://cdn.bokeh.org/bokeh/release/bokeh-widgets-2.2.3.min.js\": \"98GDGJ0kOMCUMUePhksaQ/GYgB3+NH9h996V88sh3aOiUNX3N+fLXAtry6xctSZ6\", \"https://cdn.bokeh.org/bokeh/release/bokeh-tables-2.2.3.min.js\": \"89bArO+nlbP3sgakeHjCo1JYxYR5wufVgA3IbUvDY+K7w4zyxJqssu7wVnfeKCq8\"};\n\n    for (var i = 0; i < js_urls.length; i++) {\n      var url = js_urls[i];\n      var element = document.createElement('script');\n      element.onload = on_load;\n      element.onerror = on_error;\n      element.async = false;\n      element.src = url;\n      if (url in hashes) {\n        element.crossOrigin = \"anonymous\";\n        element.integrity = \"sha384-\" + hashes[url];\n      }\n      console.debug(\"Bokeh: injecting script tag for BokehJS library: \", url);\n      document.head.appendChild(element);\n    }\n  };\n\n  function inject_raw_css(css) {\n    const element = document.createElement(\"style\");\n    element.appendChild(document.createTextNode(css));\n    document.body.appendChild(element);\n  }\n\n  \n  var js_urls = [\"https://cdn.bokeh.org/bokeh/release/bokeh-2.2.3.min.js\", \"https://cdn.bokeh.org/bokeh/release/bokeh-widgets-2.2.3.min.js\", \"https://cdn.bokeh.org/bokeh/release/bokeh-tables-2.2.3.min.js\"];\n  var css_urls = [];\n  \n\n  var inline_js = [\n    function(Bokeh) {\n      Bokeh.set_log_level(\"info\");\n    },\n    function(Bokeh) {\n    \n    \n    }\n  ];\n\n  function run_inline_js() {\n    \n    if (root.Bokeh !== undefined || force === true) {\n      \n    for (var i = 0; i < inline_js.length; i++) {\n      inline_js[i].call(root, root.Bokeh);\n    }\n    if (force === true) {\n        display_loaded();\n      }} else if (Date.now() < root._bokeh_timeout) {\n      setTimeout(run_inline_js, 100);\n    } else if (!root._bokeh_failed_load) {\n      console.log(\"Bokeh: BokehJS failed to load within specified timeout.\");\n      root._bokeh_failed_load = true;\n    } else if (force !== true) {\n      var cell = $(document.getElementById(\"1001\")).parents('.cell').data().cell;\n      cell.output_area.append_execute_result(NB_LOAD_WARNING)\n    }\n\n  }\n\n  if (root._bokeh_is_loading === 0) {\n    console.debug(\"Bokeh: BokehJS loaded, going straight to plotting\");\n    run_inline_js();\n  } else {\n    load_libs(css_urls, js_urls, function() {\n      console.debug(\"Bokeh: BokehJS plotting callback run at\", now());\n      run_inline_js();\n    });\n  }\n}(window));"
     },
     "metadata": {},
     "output_type": "display_data"
    }
   ],
   "source": [
    "pkg_path = '../src/'\n",
    "\n",
    "sys.path.append(pkg_path)\n",
    "import data_preparation as dp\n",
    "import graphics as gp"
   ]
  },
  {
   "cell_type": "code",
   "execution_count": 3,
   "metadata": {},
   "outputs": [],
   "source": [
    "pd.set_option('display.max_rows', 10)\n",
    "pd.set_option('display.max_columns', None)\n",
    "# pd.set_option('display.width', None)\n",
    "pd.set_option('display.max_colwidth', None)"
   ]
  },
  {
   "cell_type": "markdown",
   "metadata": {},
   "source": [
    "## Read "
   ]
  },
  {
   "cell_type": "code",
   "execution_count": 4,
   "metadata": {},
   "outputs": [],
   "source": [
    "plz_csv = '../data/01_raw/plz_einwohner.csv'"
   ]
  },
  {
   "cell_type": "code",
   "execution_count": 5,
   "metadata": {},
   "outputs": [],
   "source": [
    "# Postal code list with population data (2011)\n",
    "plz_de = pd.read_csv(plz_csv,\n",
    "                    dtype={'plz': str, 'einwhoner': int}) # specify column types"
   ]
  },
  {
   "cell_type": "code",
   "execution_count": 6,
   "metadata": {},
   "outputs": [
    {
     "name": "stdout",
     "output_type": "stream",
     "text": [
      "Completed crawling for 8165 PLZs\n"
     ]
    }
   ],
   "source": [
    "# Get all existing PLZ done\n",
    "import os\n",
    "name_list = os.listdir('../data/01_raw/buildings_plz/')\n",
    "\n",
    "done_plz = [x.split('.')[0].split('_')[1] for x in name_list if 'buildings' in x]\n",
    "print(f'Completed crawling for {len(done_plz)} PLZs')"
   ]
  },
  {
   "cell_type": "code",
   "execution_count": 7,
   "metadata": {},
   "outputs": [],
   "source": [
    "plz_de = plz_de[plz_de.plz.isin(done_plz) == False].reset_index(drop = True)"
   ]
  },
  {
   "cell_type": "markdown",
   "metadata": {},
   "source": [
    "1. Manual classify buildings into 7 categories: residential, public, commercial, accessory:storage, accessory:supply, industrial and other.\n",
    "1. Calculate surface area of all the buildings (floor area * building levels)\n",
    "1. Extract \"residential\" & \"other\" type to a separate dataset for ML modeling (guessing building types?)"
   ]
  },
  {
   "cell_type": "code",
   "execution_count": 8,
   "metadata": {},
   "outputs": [],
   "source": [
    "plz = done_plz[10]"
   ]
  },
  {
   "cell_type": "code",
   "execution_count": 9,
   "metadata": {},
   "outputs": [
    {
     "data": {
      "text/plain": [
       "'../data/01_raw/buildings_plz/buildings_01157.csv'"
      ]
     },
     "execution_count": 9,
     "metadata": {},
     "output_type": "execute_result"
    }
   ],
   "source": [
    "plz_path = f'../data/01_raw/buildings_plz/buildings_{plz}.csv'\n",
    "plz_path"
   ]
  },
  {
   "cell_type": "code",
   "execution_count": 10,
   "metadata": {},
   "outputs": [],
   "source": [
    "df = pd.read_csv(plz_path,\n",
    "                 dtype={'tags.addr:suburb': 'object',\n",
    "                        'tags.building:levels': 'object',\n",
    "                        'tags.source' :str,\n",
    "                        'tags.addr:postcode':str},\n",
    "                converters={\"nodes\": lambda x: x.strip(\"[]\").split(\", \")}) # read column as list\n",
    "\n",
    "# remove empty elements (no lat/lon)\n",
    "df = df[df['center.lat'].isna()==False].reset_index(drop = True)\n",
    "# replace NaN in building_levels\n",
    "df['tags.building:levels'] = df['tags.building:levels'].fillna(1)\n",
    "\n",
    "# Classify to building types\n",
    "df['building_types'] = df['tags.building'].apply(lambda x: dp.manual_classify_building(x))"
   ]
  },
  {
   "cell_type": "code",
   "execution_count": 20,
   "metadata": {},
   "outputs": [],
   "source": [
    "idx = 0\n",
    "# df['total_area'] = None"
   ]
  },
  {
   "cell_type": "code",
   "execution_count": 22,
   "metadata": {},
   "outputs": [
    {
     "ename": "AttributeError",
     "evalue": "'float' object has no attribute 'isna'",
     "output_type": "error",
     "traceback": [
      "\u001b[1;31m---------------------------------------------------------------------------\u001b[0m",
      "\u001b[1;31mAttributeError\u001b[0m                            Traceback (most recent call last)",
      "\u001b[1;32m<ipython-input-22-f3f329a9ad2c>\u001b[0m in \u001b[0;36m<module>\u001b[1;34m\u001b[0m\n\u001b[0;32m      2\u001b[0m \u001b[1;33m\u001b[0m\u001b[0m\n\u001b[0;32m      3\u001b[0m \u001b[1;32mwhile\u001b[0m \u001b[0midx\u001b[0m \u001b[1;33m<\u001b[0m \u001b[0mlen\u001b[0m\u001b[1;33m(\u001b[0m\u001b[0mdf\u001b[0m\u001b[1;33m)\u001b[0m\u001b[1;33m:\u001b[0m\u001b[1;33m\u001b[0m\u001b[1;33m\u001b[0m\u001b[0m\n\u001b[1;32m----> 4\u001b[1;33m     \u001b[1;32mif\u001b[0m \u001b[1;33m(\u001b[0m\u001b[0mdf\u001b[0m\u001b[1;33m[\u001b[0m\u001b[1;34m'total_area'\u001b[0m\u001b[1;33m]\u001b[0m\u001b[1;33m.\u001b[0m\u001b[0miloc\u001b[0m\u001b[1;33m[\u001b[0m\u001b[0midx\u001b[0m\u001b[1;33m]\u001b[0m\u001b[1;33m.\u001b[0m\u001b[0misna\u001b[0m\u001b[1;33m(\u001b[0m\u001b[1;33m)\u001b[0m \u001b[1;33m==\u001b[0m \u001b[1;32mTrue\u001b[0m\u001b[1;33m)\u001b[0m\u001b[1;33m|\u001b[0m\u001b[1;33m(\u001b[0m\u001b[0mdf\u001b[0m\u001b[1;33m[\u001b[0m\u001b[1;34m'total_area'\u001b[0m\u001b[1;33m]\u001b[0m\u001b[1;33m.\u001b[0m\u001b[0miloc\u001b[0m\u001b[1;33m[\u001b[0m\u001b[0midx\u001b[0m\u001b[1;33m]\u001b[0m \u001b[1;33m==\u001b[0m \u001b[1;36m0\u001b[0m\u001b[1;33m)\u001b[0m\u001b[1;33m:\u001b[0m\u001b[1;33m\u001b[0m\u001b[1;33m\u001b[0m\u001b[0m\n\u001b[0m\u001b[0;32m      5\u001b[0m         df['total_area'].iloc[idx] = dp.get_total_area(df['nodes'].iloc[idx],\n\u001b[0;32m      6\u001b[0m                                                        df['tags.building:levels'].iloc[idx])\n",
      "\u001b[1;31mAttributeError\u001b[0m: 'float' object has no attribute 'isna'"
     ]
    }
   ],
   "source": [
    "# Calculate total area of the building\n",
    "\n",
    "while idx < len(df):\n",
    "    df['total_area'].iloc[idx] = dp.get_total_area(df['nodes'].iloc[idx],\n",
    "                                                   df['tags.building:levels'].iloc[idx])\n",
    "    if idx % 100 == 0: print(f'{idx}/{len(df)}')\n",
    "    idx = idx + 1"
   ]
  },
  {
   "cell_type": "code",
   "execution_count": 23,
   "metadata": {},
   "outputs": [
    {
     "data": {
      "text/plain": [
       "(276, 15)"
      ]
     },
     "execution_count": 23,
     "metadata": {},
     "output_type": "execute_result"
    }
   ],
   "source": [
    "df[df.total_area ==0 ].shape"
   ]
  },
  {
   "cell_type": "code",
   "execution_count": 24,
   "metadata": {},
   "outputs": [
    {
     "data": {
      "text/html": [
       "\n",
       "\n",
       "\n",
       "\n",
       "\n",
       "\n",
       "  <div class=\"bk-root\" id=\"31f8c31f-5ca5-4e9c-b77d-5da62a40d7ed\" data-root-id=\"1002\"></div>\n"
      ]
     },
     "metadata": {},
     "output_type": "display_data"
    },
    {
     "data": {
      "application/javascript": [
       "(function(root) {\n",
       "  function embed_document(root) {\n",
       "    \n",
       "  var docs_json = {\"7a0e415c-1689-4d16-84b2-2ee987cca317\":{\"roots\":{\"references\":[{\"attributes\":{\"below\":[{\"id\":\"1013\"}],\"center\":[{\"id\":\"1016\"},{\"id\":\"1020\"},{\"id\":\"1048\"}],\"left\":[{\"id\":\"1017\"}],\"renderers\":[{\"id\":\"1038\"},{\"id\":\"1053\"},{\"id\":\"1069\"},{\"id\":\"1087\"},{\"id\":\"1107\"}],\"title\":{\"id\":\"1003\"},\"toolbar\":{\"id\":\"1028\"},\"x_range\":{\"id\":\"1005\"},\"x_scale\":{\"id\":\"1009\"},\"y_range\":{\"id\":\"1007\"},\"y_scale\":{\"id\":\"1011\"}},\"id\":\"1002\",\"subtype\":\"Figure\",\"type\":\"Plot\"},{\"attributes\":{\"end\":13.727037600000001,\"start\":13.5670376},\"id\":\"1005\",\"type\":\"Range1d\"},{\"attributes\":{\"source\":{\"id\":\"1035\"}},\"id\":\"1039\",\"type\":\"CDSView\"},{\"attributes\":{\"data_source\":{\"id\":\"1066\"},\"glyph\":{\"id\":\"1067\"},\"hover_glyph\":null,\"muted_glyph\":null,\"nonselection_glyph\":{\"id\":\"1068\"},\"selection_glyph\":null,\"view\":{\"id\":\"1070\"}},\"id\":\"1069\",\"type\":\"GlyphRenderer\"},{\"attributes\":{\"text\":\"Building types map at postal code 01157\"},\"id\":\"1003\",\"type\":\"Title\"},{\"attributes\":{},\"id\":\"1022\",\"type\":\"WheelZoomTool\"},{\"attributes\":{},\"id\":\"1024\",\"type\":\"SaveTool\"},{\"attributes\":{},\"id\":\"1018\",\"type\":\"BasicTicker\"},{\"attributes\":{},\"id\":\"1100\",\"type\":\"UnionRenderers\"},{\"attributes\":{\"fill_alpha\":{\"value\":0.1},\"fill_color\":{\"value\":\"yellow\"},\"line_alpha\":{\"value\":0.1},\"line_color\":{\"value\":\"yellow\"},\"size\":{\"units\":\"screen\",\"value\":5},\"x\":{\"field\":\"x\"},\"y\":{\"field\":\"y\"}},\"id\":\"1068\",\"type\":\"Circle\"},{\"attributes\":{},\"id\":\"1026\",\"type\":\"HelpTool\"},{\"attributes\":{},\"id\":\"1101\",\"type\":\"Selection\"},{\"attributes\":{\"data\":{\"x\":{\"__ndarray__\":\"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\",\"dtype\":\"float64\",\"order\":\"little\",\"shape\":[970]},\"y\":{\"__ndarray__\":\"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\",\"dtype\":\"float64\",\"order\":\"little\",\"shape\":[970]}},\"selected\":{\"id\":\"1081\"},\"selection_policy\":{\"id\":\"1080\"}},\"id\":\"1066\",\"type\":\"ColumnDataSource\"},{\"attributes\":{\"overlay\":{\"id\":\"1027\"}},\"id\":\"1023\",\"type\":\"BoxZoomTool\"},{\"attributes\":{},\"id\":\"1014\",\"type\":\"BasicTicker\"},{\"attributes\":{\"fill_alpha\":{\"value\":0.1},\"fill_color\":{\"value\":\"purple\"},\"line_alpha\":{\"value\":0.1},\"line_color\":{\"value\":\"purple\"},\"size\":{\"units\":\"screen\",\"value\":5},\"x\":{\"field\":\"x\"},\"y\":{\"field\":\"y\"}},\"id\":\"1086\",\"type\":\"Circle\"},{\"attributes\":{\"label\":{\"value\":\"Residential\"},\"renderers\":[{\"id\":\"1069\"}]},\"id\":\"1083\",\"type\":\"LegendItem\"},{\"attributes\":{\"fill_alpha\":{\"value\":0.5},\"fill_color\":{\"value\":\"grey\"},\"line_alpha\":{\"value\":0.5},\"line_color\":{\"value\":\"grey\"},\"size\":{\"units\":\"screen\",\"value\":5},\"x\":{\"field\":\"x\"},\"y\":{\"field\":\"y\"}},\"id\":\"1105\",\"type\":\"Circle\"},{\"attributes\":{\"source\":{\"id\":\"1066\"}},\"id\":\"1070\",\"type\":\"CDSView\"},{\"attributes\":{},\"id\":\"1041\",\"type\":\"BasicTickFormatter\"},{\"attributes\":{\"fill_alpha\":{\"value\":0.5},\"fill_color\":{\"value\":\"green\"},\"line_alpha\":{\"value\":0.5},\"line_color\":{\"value\":\"green\"},\"size\":{\"units\":\"screen\",\"value\":5},\"x\":{\"field\":\"x\"},\"y\":{\"field\":\"y\"}},\"id\":\"1051\",\"type\":\"Circle\"},{\"attributes\":{\"data\":{\"x\":{\"__ndarray__\":\"JWntbH5eK0CFjfwLTl4rQDjy5aoeUStAWjxhLk5NK0ABbatZZ1wrQAbhG1QsWCtA1+94SVJUK0B5lRAHZF4rQBMVu8fjUytAxt0xhoNeK0Coj8Affl4rQANVSJ6QXitAye8jbZleK0A+dVGZB1ErQEvTVtsDWytA7krcdBVYK0BqCDMSRlgrQJWMUvgiYCtAc8tYfipgK0A=\",\"dtype\":\"float64\",\"order\":\"little\",\"shape\":[19]},\"y\":{\"__ndarray__\":\"OvGLAciGSUDYV2gxwoZJQFZxmYnYiElAv3EIC92KSUCEZte9FYhJQM0uKYjLiElA/tpVo7KJSUB2zfXHxYZJQArsex7thklA/ddesMCGSUBD9LV4woZJQMjeQaK/hklAlk41xMKGSUBdlOpM64dJQJprh3WZh0lAWjONgdCISUDutaD3xohJQLxuW6UFh0lA4heo1gyHSUA=\",\"dtype\":\"float64\",\"order\":\"little\",\"shape\":[19]}},\"selected\":{\"id\":\"1046\"},\"selection_policy\":{\"id\":\"1045\"}},\"id\":\"1035\",\"type\":\"ColumnDataSource\"},{\"attributes\":{\"axis\":{\"id\":\"1013\"},\"ticker\":null},\"id\":\"1016\",\"type\":\"Grid\"},{\"attributes\":{\"axis\":{\"id\":\"1017\"},\"dimension\":1,\"ticker\":null},\"id\":\"1020\",\"type\":\"Grid\"},{\"attributes\":{\"fill_alpha\":{\"value\":0.1},\"fill_color\":{\"value\":\"green\"},\"line_alpha\":{\"value\":0.1},\"line_color\":{\"value\":\"green\"},\"size\":{\"units\":\"screen\",\"value\":5},\"x\":{\"field\":\"x\"},\"y\":{\"field\":\"y\"}},\"id\":\"1052\",\"type\":\"Circle\"},{\"attributes\":{},\"id\":\"1025\",\"type\":\"ResetTool\"},{\"attributes\":{\"data_source\":{\"id\":\"1104\"},\"glyph\":{\"id\":\"1105\"},\"hover_glyph\":null,\"muted_glyph\":null,\"nonselection_glyph\":{\"id\":\"1106\"},\"selection_glyph\":null,\"view\":{\"id\":\"1108\"}},\"id\":\"1107\",\"type\":\"GlyphRenderer\"},{\"attributes\":{\"axis_label\":\"Longitude\",\"formatter\":{\"id\":\"1043\"},\"ticker\":{\"id\":\"1014\"}},\"id\":\"1013\",\"type\":\"LinearAxis\"},{\"attributes\":{\"data\":{\"x\":{\"__ndarray__\":\"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\",\"dtype\":\"float64\",\"order\":\"little\",\"shape\":[2457]},\"y\":{\"__ndarray__\":\"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\",\"dtype\":\"float64\",\"order\":\"little\",\"shape\":[2457]}},\"selected\":{\"id\":\"1123\"},\"selection_policy\":{\"id\":\"1122\"}},\"id\":\"1104\",\"type\":\"ColumnDataSource\"},{\"attributes\":{\"data_source\":{\"id\":\"1050\"},\"glyph\":{\"id\":\"1051\"},\"hover_glyph\":null,\"muted_glyph\":null,\"nonselection_glyph\":{\"id\":\"1052\"},\"selection_glyph\":null,\"view\":{\"id\":\"1054\"}},\"id\":\"1053\",\"type\":\"GlyphRenderer\"},{\"attributes\":{},\"id\":\"1011\",\"type\":\"LinearScale\"},{\"attributes\":{\"data\":{\"x\":{\"__ndarray__\":\"VxcBXxtfK0DAkxYuq1wrQNPB+j+HXStA53EYzF9dK0Ab2lsls10rQDsgZLTpWytAFKqbi79RK0DXe5aMCFsrQPrsgOuKTStAIaaOn9ddK0A0QuSZPFIrQDlrpjEQUitA1A/qIoVaK0CB1IEHYV0rQNr9zwYFXitAOm6dJAJeK0DNY4M7Bl4rQMdp4+NuVytAkP0sliJZK0CfZ1gxAWArQMOU7egkXCtAYCLeOv9eK0DyCdl5G1crQHBuXXuwXitAlzIVh9hRK0CdJAJ6hl0rQA==\",\"dtype\":\"float64\",\"order\":\"little\",\"shape\":[26]},\"y\":{\"__ndarray__\":\"drRgmAKISUCucCYBxYdJQCfXuQ56hklApaa4BaaHSUAx6lp7n4dJQK4T8pyIhklAs1B8xs+ISUDE6SRbXYZJQPaoCex7iklAdjzBWaWGSUAQRdz3A4dJQILbJFAOh0lA0bGDSlyISUCt8eN5uoZJQIG+48qPh0lAIoleRrGGSUBBecSNAIhJQEEEZs+vhklAm/wFcdSGSUACAkKQKIdJQIzzN6EQiElAzHnGvmSGSUDKnxRSI4lJQH3VgPdEhklAo00fy8yISUBpjxfS4YdJQA==\",\"dtype\":\"float64\",\"order\":\"little\",\"shape\":[26]}},\"selected\":{\"id\":\"1063\"},\"selection_policy\":{\"id\":\"1062\"}},\"id\":\"1050\",\"type\":\"ColumnDataSource\"},{\"attributes\":{},\"id\":\"1080\",\"type\":\"UnionRenderers\"},{\"attributes\":{},\"id\":\"1043\",\"type\":\"BasicTickFormatter\"},{\"attributes\":{\"label\":{\"value\":\"Unknown\"},\"renderers\":[{\"id\":\"1107\"}]},\"id\":\"1125\",\"type\":\"LegendItem\"},{\"attributes\":{\"active_drag\":\"auto\",\"active_inspect\":\"auto\",\"active_multi\":null,\"active_scroll\":\"auto\",\"active_tap\":\"auto\",\"tools\":[{\"id\":\"1021\"},{\"id\":\"1022\"},{\"id\":\"1023\"},{\"id\":\"1024\"},{\"id\":\"1025\"},{\"id\":\"1026\"}]},\"id\":\"1028\",\"type\":\"Toolbar\"},{\"attributes\":{\"fill_alpha\":{\"value\":0.5},\"fill_color\":{\"value\":\"yellow\"},\"line_alpha\":{\"value\":0.5},\"line_color\":{\"value\":\"yellow\"},\"size\":{\"units\":\"screen\",\"value\":5},\"x\":{\"field\":\"x\"},\"y\":{\"field\":\"y\"}},\"id\":\"1067\",\"type\":\"Circle\"},{\"attributes\":{\"source\":{\"id\":\"1104\"}},\"id\":\"1108\",\"type\":\"CDSView\"},{\"attributes\":{},\"id\":\"1081\",\"type\":\"Selection\"},{\"attributes\":{\"label\":{\"value\":\"Industrial\"},\"renderers\":[{\"id\":\"1038\"}]},\"id\":\"1049\",\"type\":\"LegendItem\"},{\"attributes\":{\"label\":{\"value\":\"Commercial\"},\"renderers\":[{\"id\":\"1053\"}]},\"id\":\"1065\",\"type\":\"LegendItem\"},{\"attributes\":{\"source\":{\"id\":\"1050\"}},\"id\":\"1054\",\"type\":\"CDSView\"},{\"attributes\":{\"end\":51.167985699999996,\"start\":50.9676625},\"id\":\"1007\",\"type\":\"Range1d\"},{\"attributes\":{\"fill_alpha\":{\"value\":0.5},\"fill_color\":{\"value\":\"purple\"},\"line_alpha\":{\"value\":0.5},\"line_color\":{\"value\":\"purple\"},\"size\":{\"units\":\"screen\",\"value\":5},\"x\":{\"field\":\"x\"},\"y\":{\"field\":\"y\"}},\"id\":\"1085\",\"type\":\"Circle\"},{\"attributes\":{},\"id\":\"1021\",\"type\":\"PanTool\"},{\"attributes\":{\"data_source\":{\"id\":\"1035\"},\"glyph\":{\"id\":\"1036\"},\"hover_glyph\":null,\"muted_glyph\":null,\"nonselection_glyph\":{\"id\":\"1037\"},\"selection_glyph\":null,\"view\":{\"id\":\"1039\"}},\"id\":\"1038\",\"type\":\"GlyphRenderer\"},{\"attributes\":{\"data_source\":{\"id\":\"1084\"},\"glyph\":{\"id\":\"1085\"},\"hover_glyph\":null,\"muted_glyph\":null,\"nonselection_glyph\":{\"id\":\"1086\"},\"selection_glyph\":null,\"view\":{\"id\":\"1088\"}},\"id\":\"1087\",\"type\":\"GlyphRenderer\"},{\"attributes\":{\"bottom_units\":\"screen\",\"fill_alpha\":0.5,\"fill_color\":\"lightgrey\",\"left_units\":\"screen\",\"level\":\"overlay\",\"line_alpha\":1.0,\"line_color\":\"black\",\"line_dash\":[4,4],\"line_width\":2,\"right_units\":\"screen\",\"top_units\":\"screen\"},\"id\":\"1027\",\"type\":\"BoxAnnotation\"},{\"attributes\":{\"items\":[{\"id\":\"1049\"},{\"id\":\"1065\"},{\"id\":\"1083\"},{\"id\":\"1103\"},{\"id\":\"1125\"}]},\"id\":\"1048\",\"type\":\"Legend\"},{\"attributes\":{\"data\":{\"x\":{\"__ndarray__\":\"jYZCuo5fK0D7y+7Jw14rQLYAftexVytAEeSghJlaK0DAQkGEE1wrQCBfQgWHVytA9KPhlLlVK0Bg1+VK81UrQCBLH7qgVitAS6vGtxxQK0BOl8XE5k8rQFpG6j2VTytA6jAV0WVQK0BLtaqA1k8rQG4kGu5tUCtAWFAYlGlQK0DwDpXrEk4rQHfOYJ10UCtA+TjksEVQK0C2Gm2wy08rQKNqYFBLUCtAZNx5h4BQK0AdKKbBI1ArQAPBLWnWTytA7rCJzFxQK0BdjUcEPk4rQOu5ltqcUCtAJyVOOAVPK0DhaehVU1ArQN9I6k7BTytAmRpXEo9OK0B6ibFMv1ArQBLYnINnTitAfTz03a1QK0Abu0T11kwrQLxBDxAnVytARuBZzBlXK0DyoVV3dlcrQNO3cTBAVytA6tYh7TVXK0BEnJg/8FYrQE+xahDmVitAnGMvyiJXK0B56/zbZVcrQBG7AEV2VytAA8QTMHBXK0DATvv3KlcrQE8aD1sfVytAUy7oGOtWK0B3N6ouO1crQLYfOk4bVytAmxCEdS1XK0CXK3I+K1crQKXG31G+UytABwjm6PFTK0AKkFfW7FMrQAMY4Mz5UytAOe6UDtZTK0CgOIB+31MrQOdTxyqlUytAB/9s9eZVK0AtADIZM1YrQF/J+nILVitAzRfFvNhVK0Ck1G9wM1YrQCyck80LVitAUG1wIvpVK0CJOr2cI1ArQGY4+YjzTytA+nVMgtxOK0D9J8mEqU8rQNYkLrb/TytA/M0fLpRPK0D3+d6VE08rQDJXBtUGTytAr7a9OExPK0ABGZUvw04rQIME1ruJTytASdqNPuZPK0DrZpDMNE8rQF9VrND2TitAdyLSgItPK0AUJoxmZU8rQCwMkdPXTytAWwcHexNPK0DBHCxSF08rQP+cOG9STytAFwSgm0dPK0A4B3TLs08rQHI344/9TytAjKIHPgZPK0DJxoMtdk8rQBtCOuHKTitA6vMHuUFPK0AAMa5df08rQJ+B7FCoTitAs561NuhOK0D55w4Hrk8rQO1imuleTytAmms96H5PK0D8OJojK08rQPHORlPiTytAlUloJnNPK0DdeHdkrE4rQDLzeLU3TytA0GHP6FhPK0DDK0me608rQNtopbUOTytAg0GIGjtPK0BZs4RrpE8rQBb7y+7JTytAd41MdiJPK0CZeReUDk8rQOzQVV8CUCtA7laW6CxPK0AidCvfjk8rQL/trlhoUCtAyMOMOoRPK0DZctML408rQGkUNxN4UCtAzrHN13ZQK0AL6CqCpFArQKGaN/NQTCtAdOBBWDJMK0A5sSw9P00rQFjEVQomTytAMyAxMOFOK0A+jLVk+k4rQEABypUwTStAj+m/vSFPK0D7lGOyuE8rQH8cKEsITStAMMSgAhZPK0DJRAAmX08rQHU5ymazTytAdbY2Q2BPK0AZku5Czk4rQGWmWUUkTytAepFksahPK0AoAouybU8rQK9UYX1NTCtAWSlO/6NMK0CFJ/T6k0wrQC3e2WhKTCtAl6lJ8IZMK0DV06KZgkwrQApCw6xhTCtAHjC0339MK0BjnL8JhUwrQEzuwbUkVStAVE57Ss5VK0D6CWe3llUrQC4P4388VStAPAvnv6xVK0DvagPBLVUrQAa5izBFVStA0Go3sAtVK0B3eu+5XVUrQOA571qdWytAd9JnrKJcK0DVP4hkyFErQEdzdRHwUStA1LX2PlVRK0A6E+SxsFErQOeLGNHRUStAk7Kgi+FRK0DM2gEyz1ErQIC8sma/UStAhq3ZyktSK0DV6NUApVErQBJ94xAWUitA9WM4QxZSK0B4gCctXFIrQHWDV4EQVytAVgBC2rVTK0D6gnHLolMrQE3bv7LSTCtA8/IqIQ5UK0AbCG5Js1YrQOejMf+NVitAFGCzt+9QK0DTwfo/h00rQMMz/ALVWitA\",\"dtype\":\"float64\",\"order\":\"little\",\"shape\":[183]},\"y\":{\"__ndarray__\":\"xJBBk2mHSUBv6Her+IZJQFNLcyuEiElA/gEgOHiHSUDCww8pYYdJQDSMcbSZiElA8HPXbauISUBuno/XKIlJQLpxnCUSiElAJAj8hi6KSUCJFW75SIpJQHq9oCpLiklAu/ZgrTWKSUDeGn1xTopJQGABTBk4iklA6sX1lEGKSUBrwUExaIpJQG29OiI6iklAQuJo2DmKSUAnol9bP4pJQEjkFk4tiklAqyqPyT2KSUA7hJYaRopJQHO9baZCiklAvF712zKKSUBLcNnXcIpJQALuHkVCiklATm7Ky1CKSUBkwz8RMIpJQEHCixk8iklAnETODCyHSUBtVn2utoZJQDwle99ThklApVZOMb2GSUBZcJqZ9IZJQGPuWkI+iElAnJg/8EKISUDqymd5HohJQAS6QJMOiElA9ifxuROISUBfwZGbPIhJQLvRx3xAiElAtuZ90j+ISUD6F0FjJohJQHQEX4cgiElAivg9oCKISUDzJERUPIhJQEpyCjxBiElAskPrlz6ISUCq8j0jEYhJQKPipNU1iElA/Nk0Wx6ISUBC85QwLohJQM6b1OEyiElAGI6Mei2ISUAxl1RtN4hJQEKmIU83iElAurNlry2ISUAljXaBN4hJQJqo70YwiElA+9x12yqISUDoUyLkF4hJQMox/iINiElAiHw8mSSISUC0Hr5MFIhJQAAJefMKiElAEG58NyeISUCzY37JIYpJQEJ6ihwiiklA7NdCNcqKSUBoPudu14pJQLDFE+biiklAup0iLM+KSUB2d1OA3opJQGi38YLjiklAqB7EKc6KSUA7sxMU9YpJQBrMcE3LiklAx3QygteKSUAr5jEUwYpJQNBXfzrUiklA9aSnI9uKSUDfrYeKzIpJQDL32n3YiklAtSlopO+KSUCtfyH16IpJQAxWQbG6iklAZQCo4saKSUCo2U0624pJQPsQr0bRiklABkQtcvSKSUABiSZQxIpJQG6LjdTWiklAH7dOEgGLSUAR6KeTx4pJQPvXqD3biklA/3dEheqKSUDMzw1N2YpJQMJPHEC/iklA77MlBtyKSUCZeoJpvYpJQGcVkbzOiklAEhQ/xtyKSUAy9Jn9y4pJQPwd5bvviklAeIa6Wc2KSUD5V+q0yYpJQHpFAeztiklAH9DjQcSKSUAc746M1YpJQE6z5QHRiklAms+52/WKSUCehrnu94pJQGhGmtPAiklA551URQKLSUA4lyw4zYpJQJMIQ9PIiklAgbG+gcmKSUDiYMobu4pJQPa/Ev77hklA2uDpOvmGSUD8NJMU/YZJQHF6cqg6h0lAS6Qjb2+HSUCtvyUA/4ZJQKifJulQh0lAn80FiUiHSUDv1FxuMIdJQFzbb0j+hklAwfgOIymHSUCb8WxFUYdJQK/Lleb7hklAtIbmlUaHSUAWLHpMSYdJQNVWkXZIh0lAnXOmv02HSUAM8sS9Q4dJQANzmT9Lh0lARNK4gUyHSUCXNOsxNodJQDC2tSouh0lA2IdQACCHSUA+dhcoKYdJQEeqlEMwh0lAwhK0biiHSUD/m3LgMIdJQAwfEVMih0lAOYDZmDKHSUB9H7NYL4dJQDIQFfQoh0lANyirMwiHSUBuR91zBYdJQM1EbAsqh0lA08SWeQaHSUDp/TUPFodJQOg/tQsXh0lAS+JRzyeHSUDWcmcmGIdJQDqehfNfh0lA+QeA4OCGSUAxWctTDIhJQP7nHzMGiElATDj0Fg+ISUBHFKRjGIhJQAwTV98KiElAaI3mbRGISUAuAmN9A4hJQLKneLcNiElA0L3iBAGISUBUT4tmCohJQGamD7gJiElA1pl7SPiHSUDsCVxo+IdJQEfw0MFEiElApmfVQiSISUD/DvvzI4hJQAX10rlHiklAPWL03EKISUCyhSAHJYhJQEO6jic4iElAwHD47qCGSUBK+9XSkodJQCpc6ntoh0lA\",\"dtype\":\"float64\",\"order\":\"little\",\"shape\":[183]}},\"selected\":{\"id\":\"1101\"},\"selection_policy\":{\"id\":\"1100\"}},\"id\":\"1084\",\"type\":\"ColumnDataSource\"},{\"attributes\":{},\"id\":\"1122\",\"type\":\"UnionRenderers\"},{\"attributes\":{\"fill_alpha\":{\"value\":0.1},\"fill_color\":{\"value\":\"grey\"},\"line_alpha\":{\"value\":0.1},\"line_color\":{\"value\":\"grey\"},\"size\":{\"units\":\"screen\",\"value\":5},\"x\":{\"field\":\"x\"},\"y\":{\"field\":\"y\"}},\"id\":\"1106\",\"type\":\"Circle\"},{\"attributes\":{},\"id\":\"1123\",\"type\":\"Selection\"},{\"attributes\":{\"fill_alpha\":{\"value\":0.1},\"fill_color\":{\"value\":\"blue\"},\"line_alpha\":{\"value\":0.1},\"line_color\":{\"value\":\"blue\"},\"size\":{\"units\":\"screen\",\"value\":5},\"x\":{\"field\":\"x\"},\"y\":{\"field\":\"y\"}},\"id\":\"1037\",\"type\":\"Circle\"},{\"attributes\":{\"label\":{\"value\":\"Public\"},\"renderers\":[{\"id\":\"1087\"}]},\"id\":\"1103\",\"type\":\"LegendItem\"},{\"attributes\":{},\"id\":\"1062\",\"type\":\"UnionRenderers\"},{\"attributes\":{\"source\":{\"id\":\"1084\"}},\"id\":\"1088\",\"type\":\"CDSView\"},{\"attributes\":{},\"id\":\"1063\",\"type\":\"Selection\"},{\"attributes\":{},\"id\":\"1009\",\"type\":\"LinearScale\"},{\"attributes\":{},\"id\":\"1045\",\"type\":\"UnionRenderers\"},{\"attributes\":{\"fill_alpha\":{\"value\":0.5},\"fill_color\":{\"value\":\"blue\"},\"line_alpha\":{\"value\":0.5},\"line_color\":{\"value\":\"blue\"},\"size\":{\"units\":\"screen\",\"value\":5},\"x\":{\"field\":\"x\"},\"y\":{\"field\":\"y\"}},\"id\":\"1036\",\"type\":\"Circle\"},{\"attributes\":{\"axis_label\":\"Latitude\",\"formatter\":{\"id\":\"1041\"},\"ticker\":{\"id\":\"1018\"}},\"id\":\"1017\",\"type\":\"LinearAxis\"},{\"attributes\":{},\"id\":\"1046\",\"type\":\"Selection\"}],\"root_ids\":[\"1002\"]},\"title\":\"Bokeh Application\",\"version\":\"2.2.3\"}};\n",
       "  var render_items = [{\"docid\":\"7a0e415c-1689-4d16-84b2-2ee987cca317\",\"notebook_comms_target\":\"1142\",\"root_ids\":[\"1002\"],\"roots\":{\"1002\":\"31f8c31f-5ca5-4e9c-b77d-5da62a40d7ed\"}}];\n",
       "  root.Bokeh.embed.embed_items_notebook(docs_json, render_items);\n",
       "\n",
       "  }\n",
       "  if (root.Bokeh !== undefined) {\n",
       "    embed_document(root);\n",
       "  } else {\n",
       "    var attempts = 0;\n",
       "    var timer = setInterval(function(root) {\n",
       "      if (root.Bokeh !== undefined) {\n",
       "        clearInterval(timer);\n",
       "        embed_document(root);\n",
       "      } else {\n",
       "        attempts++;\n",
       "        if (attempts > 100) {\n",
       "          clearInterval(timer);\n",
       "          console.log(\"Bokeh: ERROR: Unable to run BokehJS code because BokehJS library is missing\");\n",
       "        }\n",
       "      }\n",
       "    }, 10, root)\n",
       "  }\n",
       "})(window);"
      ],
      "application/vnd.bokehjs_exec.v0+json": ""
     },
     "metadata": {
      "application/vnd.bokehjs_exec.v0+json": {
       "id": "1002"
      }
     },
     "output_type": "display_data"
    }
   ],
   "source": [
    "gp.plot_buildings_plz(df, plz)"
   ]
  }
 ],
 "metadata": {
  "kernelspec": {
   "display_name": "Python 3",
   "language": "python",
   "name": "python3"
  },
  "language_info": {
   "codemirror_mode": {
    "name": "ipython",
    "version": 3
   },
   "file_extension": ".py",
   "mimetype": "text/x-python",
   "name": "python",
   "nbconvert_exporter": "python",
   "pygments_lexer": "ipython3",
   "version": "3.7.8"
  }
 },
 "nbformat": 4,
 "nbformat_minor": 4
}
