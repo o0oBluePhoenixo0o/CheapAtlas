{
 "cells": [
  {
   "cell_type": "markdown",
   "metadata": {},
   "source": [
    "# 3_Building footprints classification\n",
    "\n",
    "Notebook for the 3rd pipeline - building footprints classification. In this notebook, we would like to test the 4-step process:\n",
    "1. Generate additional features for clustering (rectangularity, polygon turning functions, proximity matrix)\n",
    "1. Apply Tobler's geography law into clustering footprints (objects that are closed together --> same functions | near things are more relevant than far things)\n",
    "    1. Proximity-based grouping footprints into building blocks (DBSCAN)\n",
    "    1. Geography law apply: find footprints with similar shape (turning func, rectangularity) + size (total_area) ==> get majority of types\n",
    "        1. Same building block\n",
    "        1. Same area\n",
    "    1. Apply statistical analysis results to categorize left-over footprints"
   ]
  },
  {
   "cell_type": "markdown",
   "metadata": {},
   "source": [
    "## Initialization"
   ]
  },
  {
   "cell_type": "code",
   "execution_count": 1,
   "metadata": {},
   "outputs": [
    {
     "name": "stderr",
     "output_type": "stream",
     "text": [
      "d:\\programdata\\anaconda3\\envs\\phoenix\\lib\\site-packages\\ipykernel\\ipkernel.py:287: DeprecationWarning: `should_run_async` will not call `transform_cell` automatically in the future. Please pass the result to `transformed_cell` argument and any exception that happen during thetransform in `preprocessing_exc_tuple` in IPython 7.17 and above.\n",
      "  and should_run_async(code)\n"
     ]
    }
   ],
   "source": [
    "import warnings\n",
    "warnings.filterwarnings(\"ignore\", category=DeprecationWarning)"
   ]
  },
  {
   "cell_type": "code",
   "execution_count": 2,
   "metadata": {},
   "outputs": [],
   "source": [
    "import pandas as pd\n",
    "import numpy as np\n",
    "import sys\n",
    "import os\n",
    "\n",
    "# Visualization\n",
    "import matplotlib.pyplot as plt\n",
    "import seaborn as sns\n",
    "\n",
    "import igraph\n",
    "\n",
    "from geopandas import GeoDataFrame\n",
    "from pyrosm import OSM"
   ]
  },
  {
   "cell_type": "code",
   "execution_count": 3,
   "metadata": {},
   "outputs": [],
   "source": [
    "sns.set(rc={'figure.figsize':(11.7,8.27)})"
   ]
  },
  {
   "cell_type": "code",
   "execution_count": 4,
   "metadata": {},
   "outputs": [],
   "source": [
    "# Self-made modules\n",
    "import helpers as hp\n",
    "import gemeindeverz"
   ]
  },
  {
   "cell_type": "code",
   "execution_count": 5,
   "metadata": {},
   "outputs": [],
   "source": [
    "pd.set_option('display.max_rows', 1000)\n",
    "pd.set_option('display.max_columns', None)\n",
    "pd.set_option('display.width', None)\n",
    "pd.set_option('display.max_colwidth', None)"
   ]
  },
  {
   "cell_type": "markdown",
   "metadata": {},
   "source": [
    "## Inputs\n",
    "Define inputs path"
   ]
  },
  {
   "cell_type": "code",
   "execution_count": 12,
   "metadata": {},
   "outputs": [],
   "source": [
    "buildings_int_path = '../data/02_intermediate/buildings_data/'\n",
    "plz_ags_csv = '../data/01_raw/zuordnung_plz_ort_landkreis.csv'\n",
    "\n",
    "# Demographics\n",
    "ags_living_csv = '../data/01_raw/de_living_2019.csv'\n",
    "ags_population_csv = '../data/01_raw/de_population_2019.csv'\n",
    "\n",
    "# Separation by population density (rural / suburban / urban)\n",
    "# https://www.destatis.de/DE/Themen/Laender-Regionen/Regionales/Gemeindeverzeichnis/_inhalt.html\n",
    "\n",
    "ags_urban_rural_csv = '../data/01_raw/de_rural_urban_2019.csv'"
   ]
  },
  {
   "cell_type": "markdown",
   "metadata": {},
   "source": [
    "Demographics data"
   ]
  },
  {
   "cell_type": "code",
   "execution_count": 15,
   "metadata": {},
   "outputs": [],
   "source": [
    "ags_living = pd.read_csv(ags_living_csv, \n",
    "                         sep = ';', \n",
    "                         encoding = 'cp1250', \n",
    "                         dtype= {'1_Auspraegung_Code':str},\n",
    "                         low_memory = False)\n",
    "ags_population = pd.read_csv(ags_population_csv, \n",
    "                             sep = ';', \n",
    "                             dtype= {'1_Auspraegung_Code':str},\n",
    "                             encoding = 'cp1250', \n",
    "                             low_memory = False)\n"
   ]
  },
  {
   "cell_type": "markdown",
   "metadata": {},
   "source": [
    "Geographic data"
   ]
  },
  {
   "cell_type": "code",
   "execution_count": 8,
   "metadata": {},
   "outputs": [],
   "source": [
    "# Contain local AGS codes (no regional)\n",
    "plz_ags = pd.read_csv(plz_ags_csv, dtype= {'plz': str, 'ags': str})"
   ]
  },
  {
   "cell_type": "code",
   "execution_count": 16,
   "metadata": {},
   "outputs": [
    {
     "data": {
      "text/html": [
       "<div>\n",
       "<style scoped>\n",
       "    .dataframe tbody tr th:only-of-type {\n",
       "        vertical-align: middle;\n",
       "    }\n",
       "\n",
       "    .dataframe tbody tr th {\n",
       "        vertical-align: top;\n",
       "    }\n",
       "\n",
       "    .dataframe thead th {\n",
       "        text-align: right;\n",
       "    }\n",
       "</style>\n",
       "<table border=\"1\" class=\"dataframe\">\n",
       "  <thead>\n",
       "    <tr style=\"text-align: right;\">\n",
       "      <th></th>\n",
       "      <th>AGS</th>\n",
       "      <th>Area type code</th>\n",
       "      <th>Description</th>\n",
       "    </tr>\n",
       "  </thead>\n",
       "  <tbody>\n",
       "    <tr>\n",
       "      <th>0</th>\n",
       "      <td>01001000</td>\n",
       "      <td>1</td>\n",
       "      <td>dicht besiedelt</td>\n",
       "    </tr>\n",
       "    <tr>\n",
       "      <th>1</th>\n",
       "      <td>01002000</td>\n",
       "      <td>1</td>\n",
       "      <td>dicht besiedelt</td>\n",
       "    </tr>\n",
       "    <tr>\n",
       "      <th>2</th>\n",
       "      <td>01003000</td>\n",
       "      <td>1</td>\n",
       "      <td>dicht besiedelt</td>\n",
       "    </tr>\n",
       "    <tr>\n",
       "      <th>3</th>\n",
       "      <td>01004000</td>\n",
       "      <td>1</td>\n",
       "      <td>dicht besiedelt</td>\n",
       "    </tr>\n",
       "    <tr>\n",
       "      <th>4</th>\n",
       "      <td>01051001</td>\n",
       "      <td>3</td>\n",
       "      <td>gering besiedelt</td>\n",
       "    </tr>\n",
       "  </tbody>\n",
       "</table>\n",
       "</div>"
      ],
      "text/plain": [
       "        AGS  Area type code       Description\n",
       "0  01001000               1   dicht besiedelt\n",
       "1  01002000               1   dicht besiedelt\n",
       "2  01003000               1   dicht besiedelt\n",
       "3  01004000               1   dicht besiedelt\n",
       "4  01051001               3  gering besiedelt"
      ]
     },
     "execution_count": 16,
     "metadata": {},
     "output_type": "execute_result"
    }
   ],
   "source": [
    "ags_rural_urban = pd.read_csv(ags_urban_rural_csv,\n",
    "                             sep = ';',\n",
    "                             dtype = {'AGS':str})\n",
    "ags_rural_urban.head()"
   ]
  },
  {
   "cell_type": "code",
   "execution_count": 10,
   "metadata": {},
   "outputs": [],
   "source": [
    "# Community directory dataframe\n",
    "GV_path = '../data/01_raw/GV/GV100AD_301120.asc'\n",
    "\n",
    "# Use this file to manually get ags code for region available on Geofabrik (inside state)\n",
    "com_dir_df = gemeindeverz.einlesen(GV_path)"
   ]
  },
  {
   "cell_type": "code",
   "execution_count": 11,
   "metadata": {},
   "outputs": [
    {
     "data": {
      "text/html": [
       "<div>\n",
       "<style scoped>\n",
       "    .dataframe tbody tr th:only-of-type {\n",
       "        vertical-align: middle;\n",
       "    }\n",
       "\n",
       "    .dataframe tbody tr th {\n",
       "        vertical-align: top;\n",
       "    }\n",
       "\n",
       "    .dataframe thead th {\n",
       "        text-align: right;\n",
       "    }\n",
       "</style>\n",
       "<table border=\"1\" class=\"dataframe\">\n",
       "  <thead>\n",
       "    <tr style=\"text-align: right;\">\n",
       "      <th></th>\n",
       "      <th>satzart</th>\n",
       "      <th>stand</th>\n",
       "      <th>ags</th>\n",
       "      <th>gemeinde_verb</th>\n",
       "      <th>gemeinde_bez</th>\n",
       "      <th>schluesselfelder</th>\n",
       "      <th>flaeche_ha</th>\n",
       "      <th>bevoelkerung_ges</th>\n",
       "      <th>bevoelkerung_maennl</th>\n",
       "      <th>plz</th>\n",
       "      <th>plz_eindeutig</th>\n",
       "      <th>finanzamts_bezirk</th>\n",
       "      <th>gerichtsbarkeit</th>\n",
       "      <th>arbeitsagentur_bezirk</th>\n",
       "      <th>bundestagswahlkreise_von</th>\n",
       "      <th>bundestagswahlkreise_bis</th>\n",
       "      <th>bemerkungen</th>\n",
       "      <th>ars</th>\n",
       "    </tr>\n",
       "  </thead>\n",
       "  <tbody>\n",
       "    <tr>\n",
       "      <th>9232</th>\n",
       "      <td>60</td>\n",
       "      <td>2020-11-30T00:00:00.000000000</td>\n",
       "      <td>09184123</td>\n",
       "      <td>0123</td>\n",
       "      <td>Haar</td>\n",
       "      <td>64.0</td>\n",
       "      <td>1290.0</td>\n",
       "      <td>21476.0</td>\n",
       "      <td>10570.0</td>\n",
       "      <td>85540</td>\n",
       "      <td>False</td>\n",
       "      <td>9147</td>\n",
       "      <td>2601</td>\n",
       "      <td>84301</td>\n",
       "      <td>NaN</td>\n",
       "      <td>NaN</td>\n",
       "      <td>NaN</td>\n",
       "      <td>091840123123</td>\n",
       "    </tr>\n",
       "  </tbody>\n",
       "</table>\n",
       "</div>"
      ],
      "text/plain": [
       "      satzart                          stand       ags gemeinde_verb  \\\n",
       "9232       60  2020-11-30T00:00:00.000000000  09184123          0123   \n",
       "\n",
       "     gemeinde_bez  schluesselfelder  flaeche_ha  bevoelkerung_ges  \\\n",
       "9232         Haar              64.0      1290.0           21476.0   \n",
       "\n",
       "      bevoelkerung_maennl    plz  plz_eindeutig finanzamts_bezirk  \\\n",
       "9232              10570.0  85540          False              9147   \n",
       "\n",
       "     gerichtsbarkeit arbeitsagentur_bezirk bundestagswahlkreise_von  \\\n",
       "9232            2601                 84301                      NaN   \n",
       "\n",
       "     bundestagswahlkreise_bis bemerkungen           ars  \n",
       "9232                      NaN         NaN  091840123123  "
      ]
     },
     "execution_count": 11,
     "metadata": {},
     "output_type": "execute_result"
    }
   ],
   "source": [
    "com_dir_df[com_dir_df.plz == '85540']"
   ]
  },
  {
   "cell_type": "markdown",
   "metadata": {},
   "source": [
    "## Building blocks segmentation (DBSCAN)\n",
    "\n",
    "In the paper [\"Proximity-based grouping of buildings in urban blocks\"](https://www.researchgate.net/publication/271901065_Proximity-based_grouping_of_buildings_in_urban_blocks_A_comparison_of_four_algorithms), the authors used 2 different approaches to evaluate 4 algorithms in clustering buildings into urban blocks. It concludes that DBSCAN (Density-based spatial clustering of applications with noise) together with ASCDT (An adaptive spatial clustering algorithm based on delaunay triangulation) performed best and their degree of complexity is not hard to implement. Thus, in this project, I implemented DBSCAN to cluster our OSM footprints into segments.\n",
    "\n",
    "### DBSCAN\n",
    "\n",
    "> It is a density-based clustering non-parametric algorithm: given a set of points in some space, it groups together points that are closely packed together (points with many nearby neighbors), marking as outliers points that lie alone in low-density regions (whose nearest neighbors are too far away). DBSCAN is one of the most common clustering algorithms and also most cited in scientific literature.\n",
    "\n",
    "More details can be found here in this [NICE article](https://www.kdnuggets.com/2020/04/dbscan-clustering-algorithm-machine-learning.html) from KDnuggets\n",
    "\n",
    "### Algorithm inputs\n",
    "For our project, we need to generate a **proximity matrix** for all building footprints in the area. Since we have already gathered and cleaned building objects data from ~10k municipalities in Germany (refer to the previous article), it is better to keep the building blocks grouping it the same granularity level (a.k.a municipality-level - AGS key)\n",
    "\n",
    "There are 2 parameters for DBSCAN we need to set *Epsilon* and *MinPts*. We will start with the baseline from the paper with *Epsilon* = 3 and *MinPts* = 2, then try to optimize them a bit by spliting municipalities into **URBANS & RURALS**\n",
    "\n",
    "### References\n",
    "Ester, M. (2019). A density-based algorithm for discovering clusters in large spatial databases with noise. [online] Psu.edu. Available at: https://citeseerx.ist.psu.edu/viewdoc/summary?doi=10.1.1.121.9220 [Accessed 2 Jan. 2021]."
   ]
  },
  {
   "cell_type": "code",
   "execution_count": null,
   "metadata": {},
   "outputs": [],
   "source": []
  }
 ],
 "metadata": {
  "kernelspec": {
   "display_name": "CheapAtlas",
   "language": "python",
   "name": "python3"
  },
  "language_info": {
   "codemirror_mode": {
    "name": "ipython",
    "version": 3
   },
   "file_extension": ".py",
   "mimetype": "text/x-python",
   "name": "python",
   "nbconvert_exporter": "python",
   "pygments_lexer": "ipython3",
   "version": "3.8.0"
  },
  "toc-autonumbering": false
 },
 "nbformat": 4,
 "nbformat_minor": 4
}
